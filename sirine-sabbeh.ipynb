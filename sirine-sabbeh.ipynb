{
 "cells": [
  {
   "cell_type": "code",
   "execution_count": 1,
   "metadata": {
    "_cell_guid": "b1076dfc-b9ad-4769-8c92-a6c4dae69d19",
    "_uuid": "8f2839f25d086af736a60e9eeb907d3b93b6e0e5",
    "execution": {
     "iopub.execute_input": "2020-12-26T13:53:09.448816Z",
     "iopub.status.busy": "2020-12-26T13:53:09.448170Z",
     "iopub.status.idle": "2020-12-26T13:53:10.563093Z",
     "shell.execute_reply": "2020-12-26T13:53:10.563804Z"
    },
    "papermill": {
     "duration": 1.150956,
     "end_time": "2020-12-26T13:53:10.564080",
     "exception": false,
     "start_time": "2020-12-26T13:53:09.413124",
     "status": "completed"
    },
    "tags": []
   },
   "outputs": [
    {
     "name": "stdout",
     "output_type": "stream",
     "text": [
      "/kaggle/input/iaa-comptition-2020/student-mat-dataset-test.csv\n",
      "/kaggle/input/iaa-comptition-2020/student-mat-dataset_train.csv\n"
     ]
    }
   ],
   "source": [
    "# This Python 3 environment comes with many helpful analytics libraries installed\n",
    "# It is defined by the kaggle/python Docker image: https://github.com/kaggle/docker-python\n",
    "# For example, here's several helpful packages to load\n",
    "\n",
    "import numpy as np # linear algebra\n",
    "import pandas as pd # data processing, CSV file I/O (e.g. pd.read_csv)\n",
    "import seaborn as sns #visulization\n",
    "import matplotlib.pyplot as plt\n",
    "import sklearn as sk\n",
    "import matplotlib\n",
    "\n",
    "\n",
    "# Input data files are available in the read-only \"../input/\" directory\n",
    "# For example, running this (by clicking run or pressing Shift+Enter) will list all files under the input directory\n",
    "\n",
    "import os\n",
    "for dirname, _, filenames in os.walk('/kaggle/input'):\n",
    "    for filename in filenames:\n",
    "        print(os.path.join(dirname, filename))\n",
    "\n",
    "# You can write up to 20GB to the current directory (/kaggle/working/) that gets preserved as output when you create a version using \"Save & Run All\" \n",
    "# You can also write temporary files to /kaggle/temp/, but they won't be saved outside of the current session"
   ]
  },
  {
   "cell_type": "markdown",
   "metadata": {
    "papermill": {
     "duration": 0.031153,
     "end_time": "2020-12-26T13:53:10.627832",
     "exception": false,
     "start_time": "2020-12-26T13:53:10.596679",
     "status": "completed"
    },
    "tags": []
   },
   "source": [
    "---\n",
    "# **1** - Data Acquisition\n",
    "---"
   ]
  },
  {
   "cell_type": "code",
   "execution_count": 2,
   "metadata": {
    "_cell_guid": "79c7e3d0-c299-4dcb-8224-4455121ee9b0",
    "_uuid": "d629ff2d2480ee46fbb7e2d37f6b5fab8052498a",
    "execution": {
     "iopub.execute_input": "2020-12-26T13:53:10.699647Z",
     "iopub.status.busy": "2020-12-26T13:53:10.698951Z",
     "iopub.status.idle": "2020-12-26T13:53:10.719147Z",
     "shell.execute_reply": "2020-12-26T13:53:10.718529Z"
    },
    "papermill": {
     "duration": 0.060444,
     "end_time": "2020-12-26T13:53:10.719269",
     "exception": false,
     "start_time": "2020-12-26T13:53:10.658825",
     "status": "completed"
    },
    "tags": []
   },
   "outputs": [],
   "source": [
    "#1 - Data acquisition\n",
    "data=pd.read_csv(\"../input/iaa-comptition-2020/student-mat-dataset_train.csv\",delimiter=\";\")"
   ]
  },
  {
   "cell_type": "code",
   "execution_count": 3,
   "metadata": {
    "execution": {
     "iopub.execute_input": "2020-12-26T13:53:10.803219Z",
     "iopub.status.busy": "2020-12-26T13:53:10.802112Z",
     "iopub.status.idle": "2020-12-26T13:53:10.825573Z",
     "shell.execute_reply": "2020-12-26T13:53:10.825037Z"
    },
    "papermill": {
     "duration": 0.075152,
     "end_time": "2020-12-26T13:53:10.825694",
     "exception": false,
     "start_time": "2020-12-26T13:53:10.750542",
     "status": "completed"
    },
    "tags": []
   },
   "outputs": [
    {
     "data": {
      "text/html": [
       "<div>\n",
       "<style scoped>\n",
       "    .dataframe tbody tr th:only-of-type {\n",
       "        vertical-align: middle;\n",
       "    }\n",
       "\n",
       "    .dataframe tbody tr th {\n",
       "        vertical-align: top;\n",
       "    }\n",
       "\n",
       "    .dataframe thead th {\n",
       "        text-align: right;\n",
       "    }\n",
       "</style>\n",
       "<table border=\"1\" class=\"dataframe\">\n",
       "  <thead>\n",
       "    <tr style=\"text-align: right;\">\n",
       "      <th></th>\n",
       "      <th>id</th>\n",
       "      <th>school</th>\n",
       "      <th>sex</th>\n",
       "      <th>age</th>\n",
       "      <th>address</th>\n",
       "      <th>famsize</th>\n",
       "      <th>Pstatus</th>\n",
       "      <th>Medu</th>\n",
       "      <th>Fedu</th>\n",
       "      <th>Mjob</th>\n",
       "      <th>...</th>\n",
       "      <th>famrel</th>\n",
       "      <th>freetime</th>\n",
       "      <th>goout</th>\n",
       "      <th>Dalc</th>\n",
       "      <th>Walc</th>\n",
       "      <th>health</th>\n",
       "      <th>absences</th>\n",
       "      <th>G1</th>\n",
       "      <th>G2</th>\n",
       "      <th>G3</th>\n",
       "    </tr>\n",
       "  </thead>\n",
       "  <tbody>\n",
       "    <tr>\n",
       "      <th>0</th>\n",
       "      <td>1</td>\n",
       "      <td>GP</td>\n",
       "      <td>F</td>\n",
       "      <td>18</td>\n",
       "      <td>U</td>\n",
       "      <td>GT3</td>\n",
       "      <td>A</td>\n",
       "      <td>4</td>\n",
       "      <td>4</td>\n",
       "      <td>at_home</td>\n",
       "      <td>...</td>\n",
       "      <td>4</td>\n",
       "      <td>3</td>\n",
       "      <td>4</td>\n",
       "      <td>1</td>\n",
       "      <td>1</td>\n",
       "      <td>3</td>\n",
       "      <td>6</td>\n",
       "      <td>5</td>\n",
       "      <td>6</td>\n",
       "      <td>6</td>\n",
       "    </tr>\n",
       "    <tr>\n",
       "      <th>1</th>\n",
       "      <td>2</td>\n",
       "      <td>GP</td>\n",
       "      <td>F</td>\n",
       "      <td>17</td>\n",
       "      <td>U</td>\n",
       "      <td>GT3</td>\n",
       "      <td>T</td>\n",
       "      <td>1</td>\n",
       "      <td>1</td>\n",
       "      <td>at_home</td>\n",
       "      <td>...</td>\n",
       "      <td>5</td>\n",
       "      <td>3</td>\n",
       "      <td>3</td>\n",
       "      <td>1</td>\n",
       "      <td>1</td>\n",
       "      <td>3</td>\n",
       "      <td>4</td>\n",
       "      <td>5</td>\n",
       "      <td>5</td>\n",
       "      <td>6</td>\n",
       "    </tr>\n",
       "    <tr>\n",
       "      <th>2</th>\n",
       "      <td>3</td>\n",
       "      <td>GP</td>\n",
       "      <td>F</td>\n",
       "      <td>15</td>\n",
       "      <td>U</td>\n",
       "      <td>LE3</td>\n",
       "      <td>T</td>\n",
       "      <td>1</td>\n",
       "      <td>1</td>\n",
       "      <td>at_home</td>\n",
       "      <td>...</td>\n",
       "      <td>4</td>\n",
       "      <td>3</td>\n",
       "      <td>2</td>\n",
       "      <td>2</td>\n",
       "      <td>3</td>\n",
       "      <td>3</td>\n",
       "      <td>10</td>\n",
       "      <td>7</td>\n",
       "      <td>8</td>\n",
       "      <td>10</td>\n",
       "    </tr>\n",
       "    <tr>\n",
       "      <th>3</th>\n",
       "      <td>4</td>\n",
       "      <td>GP</td>\n",
       "      <td>F</td>\n",
       "      <td>15</td>\n",
       "      <td>U</td>\n",
       "      <td>GT3</td>\n",
       "      <td>T</td>\n",
       "      <td>4</td>\n",
       "      <td>2</td>\n",
       "      <td>health</td>\n",
       "      <td>...</td>\n",
       "      <td>3</td>\n",
       "      <td>2</td>\n",
       "      <td>2</td>\n",
       "      <td>1</td>\n",
       "      <td>1</td>\n",
       "      <td>5</td>\n",
       "      <td>2</td>\n",
       "      <td>15</td>\n",
       "      <td>14</td>\n",
       "      <td>15</td>\n",
       "    </tr>\n",
       "    <tr>\n",
       "      <th>4</th>\n",
       "      <td>5</td>\n",
       "      <td>GP</td>\n",
       "      <td>F</td>\n",
       "      <td>16</td>\n",
       "      <td>U</td>\n",
       "      <td>GT3</td>\n",
       "      <td>T</td>\n",
       "      <td>3</td>\n",
       "      <td>3</td>\n",
       "      <td>other</td>\n",
       "      <td>...</td>\n",
       "      <td>4</td>\n",
       "      <td>3</td>\n",
       "      <td>2</td>\n",
       "      <td>1</td>\n",
       "      <td>2</td>\n",
       "      <td>5</td>\n",
       "      <td>4</td>\n",
       "      <td>6</td>\n",
       "      <td>10</td>\n",
       "      <td>10</td>\n",
       "    </tr>\n",
       "  </tbody>\n",
       "</table>\n",
       "<p>5 rows × 34 columns</p>\n",
       "</div>"
      ],
      "text/plain": [
       "   id school sex  age address famsize Pstatus  Medu  Fedu     Mjob  ...  \\\n",
       "0   1     GP   F   18       U     GT3       A     4     4  at_home  ...   \n",
       "1   2     GP   F   17       U     GT3       T     1     1  at_home  ...   \n",
       "2   3     GP   F   15       U     LE3       T     1     1  at_home  ...   \n",
       "3   4     GP   F   15       U     GT3       T     4     2   health  ...   \n",
       "4   5     GP   F   16       U     GT3       T     3     3    other  ...   \n",
       "\n",
       "  famrel freetime goout  Dalc  Walc  health absences  G1  G2  G3  \n",
       "0      4        3     4     1     1       3        6   5   6   6  \n",
       "1      5        3     3     1     1       3        4   5   5   6  \n",
       "2      4        3     2     2     3       3       10   7   8  10  \n",
       "3      3        2     2     1     1       5        2  15  14  15  \n",
       "4      4        3     2     1     2       5        4   6  10  10  \n",
       "\n",
       "[5 rows x 34 columns]"
      ]
     },
     "execution_count": 3,
     "metadata": {},
     "output_type": "execute_result"
    }
   ],
   "source": [
    "data.head()"
   ]
  },
  {
   "cell_type": "markdown",
   "metadata": {
    "papermill": {
     "duration": 0.032462,
     "end_time": "2020-12-26T13:53:10.890254",
     "exception": false,
     "start_time": "2020-12-26T13:53:10.857792",
     "status": "completed"
    },
    "tags": []
   },
   "source": [
    "# **2 - data prepartion**"
   ]
  },
  {
   "cell_type": "code",
   "execution_count": 4,
   "metadata": {
    "execution": {
     "iopub.execute_input": "2020-12-26T13:53:10.961213Z",
     "iopub.status.busy": "2020-12-26T13:53:10.960382Z",
     "iopub.status.idle": "2020-12-26T13:53:10.964366Z",
     "shell.execute_reply": "2020-12-26T13:53:10.965181Z"
    },
    "papermill": {
     "duration": 0.041791,
     "end_time": "2020-12-26T13:53:10.965374",
     "exception": false,
     "start_time": "2020-12-26T13:53:10.923583",
     "status": "completed"
    },
    "tags": []
   },
   "outputs": [
    {
     "data": {
      "text/plain": [
       "(280, 34)"
      ]
     },
     "execution_count": 4,
     "metadata": {},
     "output_type": "execute_result"
    }
   ],
   "source": [
    "data.shape"
   ]
  },
  {
   "cell_type": "code",
   "execution_count": 5,
   "metadata": {
    "execution": {
     "iopub.execute_input": "2020-12-26T13:53:11.034158Z",
     "iopub.status.busy": "2020-12-26T13:53:11.033445Z",
     "iopub.status.idle": "2020-12-26T13:53:11.041374Z",
     "shell.execute_reply": "2020-12-26T13:53:11.041881Z"
    },
    "papermill": {
     "duration": 0.04358,
     "end_time": "2020-12-26T13:53:11.042050",
     "exception": false,
     "start_time": "2020-12-26T13:53:10.998470",
     "status": "completed"
    },
    "tags": []
   },
   "outputs": [
    {
     "data": {
      "text/plain": [
       "Index(['id', 'school', 'sex', 'age', 'address', 'famsize', 'Pstatus', 'Medu',\n",
       "       'Fedu', 'Mjob', 'Fjob', 'reason', 'guardian', 'traveltime', 'studytime',\n",
       "       'failures', 'schoolsup', 'famsup', 'paid', 'activities', 'nursery',\n",
       "       'higher', 'internet', 'romantic', 'famrel', 'freetime', 'goout', 'Dalc',\n",
       "       'Walc', 'health', 'absences', 'G1', 'G2', 'G3'],\n",
       "      dtype='object')"
      ]
     },
     "execution_count": 5,
     "metadata": {},
     "output_type": "execute_result"
    }
   ],
   "source": [
    "data.columns"
   ]
  },
  {
   "cell_type": "code",
   "execution_count": 6,
   "metadata": {
    "execution": {
     "iopub.execute_input": "2020-12-26T13:53:11.117132Z",
     "iopub.status.busy": "2020-12-26T13:53:11.116052Z",
     "iopub.status.idle": "2020-12-26T13:53:11.132366Z",
     "shell.execute_reply": "2020-12-26T13:53:11.131661Z"
    },
    "papermill": {
     "duration": 0.057173,
     "end_time": "2020-12-26T13:53:11.132509",
     "exception": false,
     "start_time": "2020-12-26T13:53:11.075336",
     "status": "completed"
    },
    "tags": []
   },
   "outputs": [
    {
     "name": "stdout",
     "output_type": "stream",
     "text": [
      "<class 'pandas.core.frame.DataFrame'>\n",
      "RangeIndex: 280 entries, 0 to 279\n",
      "Data columns (total 34 columns):\n",
      " #   Column      Non-Null Count  Dtype \n",
      "---  ------      --------------  ----- \n",
      " 0   id          280 non-null    int64 \n",
      " 1   school      280 non-null    object\n",
      " 2   sex         280 non-null    object\n",
      " 3   age         280 non-null    int64 \n",
      " 4   address     280 non-null    object\n",
      " 5   famsize     280 non-null    object\n",
      " 6   Pstatus     280 non-null    object\n",
      " 7   Medu        280 non-null    int64 \n",
      " 8   Fedu        280 non-null    int64 \n",
      " 9   Mjob        280 non-null    object\n",
      " 10  Fjob        280 non-null    object\n",
      " 11  reason      280 non-null    object\n",
      " 12  guardian    280 non-null    object\n",
      " 13  traveltime  280 non-null    int64 \n",
      " 14  studytime   280 non-null    int64 \n",
      " 15  failures    280 non-null    int64 \n",
      " 16  schoolsup   280 non-null    object\n",
      " 17  famsup      280 non-null    object\n",
      " 18  paid        280 non-null    object\n",
      " 19  activities  280 non-null    object\n",
      " 20  nursery     280 non-null    object\n",
      " 21  higher      280 non-null    object\n",
      " 22  internet    280 non-null    object\n",
      " 23  romantic    280 non-null    object\n",
      " 24  famrel      280 non-null    int64 \n",
      " 25  freetime    280 non-null    int64 \n",
      " 26  goout       280 non-null    int64 \n",
      " 27  Dalc        280 non-null    int64 \n",
      " 28  Walc        280 non-null    int64 \n",
      " 29  health      280 non-null    int64 \n",
      " 30  absences    280 non-null    int64 \n",
      " 31  G1          280 non-null    int64 \n",
      " 32  G2          280 non-null    int64 \n",
      " 33  G3          280 non-null    int64 \n",
      "dtypes: int64(17), object(17)\n",
      "memory usage: 74.5+ KB\n"
     ]
    }
   ],
   "source": [
    "data.info()"
   ]
  },
  {
   "cell_type": "code",
   "execution_count": 7,
   "metadata": {
    "execution": {
     "iopub.execute_input": "2020-12-26T13:53:11.203088Z",
     "iopub.status.busy": "2020-12-26T13:53:11.202318Z",
     "iopub.status.idle": "2020-12-26T13:53:11.264368Z",
     "shell.execute_reply": "2020-12-26T13:53:11.263656Z"
    },
    "papermill": {
     "duration": 0.098382,
     "end_time": "2020-12-26T13:53:11.264485",
     "exception": false,
     "start_time": "2020-12-26T13:53:11.166103",
     "status": "completed"
    },
    "tags": []
   },
   "outputs": [
    {
     "data": {
      "text/html": [
       "<div>\n",
       "<style scoped>\n",
       "    .dataframe tbody tr th:only-of-type {\n",
       "        vertical-align: middle;\n",
       "    }\n",
       "\n",
       "    .dataframe tbody tr th {\n",
       "        vertical-align: top;\n",
       "    }\n",
       "\n",
       "    .dataframe thead th {\n",
       "        text-align: right;\n",
       "    }\n",
       "</style>\n",
       "<table border=\"1\" class=\"dataframe\">\n",
       "  <thead>\n",
       "    <tr style=\"text-align: right;\">\n",
       "      <th></th>\n",
       "      <th>id</th>\n",
       "      <th>age</th>\n",
       "      <th>Medu</th>\n",
       "      <th>Fedu</th>\n",
       "      <th>traveltime</th>\n",
       "      <th>studytime</th>\n",
       "      <th>failures</th>\n",
       "      <th>famrel</th>\n",
       "      <th>freetime</th>\n",
       "      <th>goout</th>\n",
       "      <th>Dalc</th>\n",
       "      <th>Walc</th>\n",
       "      <th>health</th>\n",
       "      <th>absences</th>\n",
       "      <th>G1</th>\n",
       "      <th>G2</th>\n",
       "      <th>G3</th>\n",
       "    </tr>\n",
       "  </thead>\n",
       "  <tbody>\n",
       "    <tr>\n",
       "      <th>count</th>\n",
       "      <td>280.000000</td>\n",
       "      <td>280.000000</td>\n",
       "      <td>280.000000</td>\n",
       "      <td>280.000000</td>\n",
       "      <td>280.000000</td>\n",
       "      <td>280.000000</td>\n",
       "      <td>280.000000</td>\n",
       "      <td>280.000000</td>\n",
       "      <td>280.000000</td>\n",
       "      <td>280.000000</td>\n",
       "      <td>280.000000</td>\n",
       "      <td>280.000000</td>\n",
       "      <td>280.000000</td>\n",
       "      <td>280.000000</td>\n",
       "      <td>280.000000</td>\n",
       "      <td>280.000000</td>\n",
       "      <td>280.000000</td>\n",
       "    </tr>\n",
       "    <tr>\n",
       "      <th>mean</th>\n",
       "      <td>140.500000</td>\n",
       "      <td>16.200000</td>\n",
       "      <td>2.807143</td>\n",
       "      <td>2.571429</td>\n",
       "      <td>1.410714</td>\n",
       "      <td>1.971429</td>\n",
       "      <td>0.335714</td>\n",
       "      <td>3.928571</td>\n",
       "      <td>3.217857</td>\n",
       "      <td>3.110714</td>\n",
       "      <td>1.457143</td>\n",
       "      <td>2.292857</td>\n",
       "      <td>3.592857</td>\n",
       "      <td>5.660714</td>\n",
       "      <td>10.610714</td>\n",
       "      <td>10.578571</td>\n",
       "      <td>10.407143</td>\n",
       "    </tr>\n",
       "    <tr>\n",
       "      <th>std</th>\n",
       "      <td>80.973247</td>\n",
       "      <td>1.082278</td>\n",
       "      <td>1.070266</td>\n",
       "      <td>1.081900</td>\n",
       "      <td>0.687231</td>\n",
       "      <td>0.829067</td>\n",
       "      <td>0.786177</td>\n",
       "      <td>0.905126</td>\n",
       "      <td>0.990476</td>\n",
       "      <td>1.147801</td>\n",
       "      <td>0.890986</td>\n",
       "      <td>1.354649</td>\n",
       "      <td>1.408609</td>\n",
       "      <td>8.219386</td>\n",
       "      <td>3.357209</td>\n",
       "      <td>3.959595</td>\n",
       "      <td>4.545109</td>\n",
       "    </tr>\n",
       "    <tr>\n",
       "      <th>min</th>\n",
       "      <td>1.000000</td>\n",
       "      <td>15.000000</td>\n",
       "      <td>0.000000</td>\n",
       "      <td>0.000000</td>\n",
       "      <td>1.000000</td>\n",
       "      <td>1.000000</td>\n",
       "      <td>0.000000</td>\n",
       "      <td>1.000000</td>\n",
       "      <td>1.000000</td>\n",
       "      <td>1.000000</td>\n",
       "      <td>1.000000</td>\n",
       "      <td>1.000000</td>\n",
       "      <td>1.000000</td>\n",
       "      <td>0.000000</td>\n",
       "      <td>3.000000</td>\n",
       "      <td>0.000000</td>\n",
       "      <td>0.000000</td>\n",
       "    </tr>\n",
       "    <tr>\n",
       "      <th>25%</th>\n",
       "      <td>70.750000</td>\n",
       "      <td>15.000000</td>\n",
       "      <td>2.000000</td>\n",
       "      <td>2.000000</td>\n",
       "      <td>1.000000</td>\n",
       "      <td>1.000000</td>\n",
       "      <td>0.000000</td>\n",
       "      <td>3.000000</td>\n",
       "      <td>3.000000</td>\n",
       "      <td>2.000000</td>\n",
       "      <td>1.000000</td>\n",
       "      <td>1.000000</td>\n",
       "      <td>3.000000</td>\n",
       "      <td>0.000000</td>\n",
       "      <td>8.000000</td>\n",
       "      <td>8.000000</td>\n",
       "      <td>8.000000</td>\n",
       "    </tr>\n",
       "    <tr>\n",
       "      <th>50%</th>\n",
       "      <td>140.500000</td>\n",
       "      <td>16.000000</td>\n",
       "      <td>3.000000</td>\n",
       "      <td>3.000000</td>\n",
       "      <td>1.000000</td>\n",
       "      <td>2.000000</td>\n",
       "      <td>0.000000</td>\n",
       "      <td>4.000000</td>\n",
       "      <td>3.000000</td>\n",
       "      <td>3.000000</td>\n",
       "      <td>1.000000</td>\n",
       "      <td>2.000000</td>\n",
       "      <td>4.000000</td>\n",
       "      <td>4.000000</td>\n",
       "      <td>10.000000</td>\n",
       "      <td>10.000000</td>\n",
       "      <td>11.000000</td>\n",
       "    </tr>\n",
       "    <tr>\n",
       "      <th>75%</th>\n",
       "      <td>210.250000</td>\n",
       "      <td>17.000000</td>\n",
       "      <td>4.000000</td>\n",
       "      <td>4.000000</td>\n",
       "      <td>2.000000</td>\n",
       "      <td>2.000000</td>\n",
       "      <td>0.000000</td>\n",
       "      <td>5.000000</td>\n",
       "      <td>4.000000</td>\n",
       "      <td>4.000000</td>\n",
       "      <td>2.000000</td>\n",
       "      <td>3.000000</td>\n",
       "      <td>5.000000</td>\n",
       "      <td>8.000000</td>\n",
       "      <td>13.000000</td>\n",
       "      <td>13.000000</td>\n",
       "      <td>14.000000</td>\n",
       "    </tr>\n",
       "    <tr>\n",
       "      <th>max</th>\n",
       "      <td>280.000000</td>\n",
       "      <td>22.000000</td>\n",
       "      <td>4.000000</td>\n",
       "      <td>4.000000</td>\n",
       "      <td>4.000000</td>\n",
       "      <td>4.000000</td>\n",
       "      <td>3.000000</td>\n",
       "      <td>5.000000</td>\n",
       "      <td>5.000000</td>\n",
       "      <td>5.000000</td>\n",
       "      <td>5.000000</td>\n",
       "      <td>5.000000</td>\n",
       "      <td>5.000000</td>\n",
       "      <td>75.000000</td>\n",
       "      <td>19.000000</td>\n",
       "      <td>19.000000</td>\n",
       "      <td>20.000000</td>\n",
       "    </tr>\n",
       "  </tbody>\n",
       "</table>\n",
       "</div>"
      ],
      "text/plain": [
       "               id         age        Medu        Fedu  traveltime   studytime  \\\n",
       "count  280.000000  280.000000  280.000000  280.000000  280.000000  280.000000   \n",
       "mean   140.500000   16.200000    2.807143    2.571429    1.410714    1.971429   \n",
       "std     80.973247    1.082278    1.070266    1.081900    0.687231    0.829067   \n",
       "min      1.000000   15.000000    0.000000    0.000000    1.000000    1.000000   \n",
       "25%     70.750000   15.000000    2.000000    2.000000    1.000000    1.000000   \n",
       "50%    140.500000   16.000000    3.000000    3.000000    1.000000    2.000000   \n",
       "75%    210.250000   17.000000    4.000000    4.000000    2.000000    2.000000   \n",
       "max    280.000000   22.000000    4.000000    4.000000    4.000000    4.000000   \n",
       "\n",
       "         failures      famrel    freetime       goout        Dalc        Walc  \\\n",
       "count  280.000000  280.000000  280.000000  280.000000  280.000000  280.000000   \n",
       "mean     0.335714    3.928571    3.217857    3.110714    1.457143    2.292857   \n",
       "std      0.786177    0.905126    0.990476    1.147801    0.890986    1.354649   \n",
       "min      0.000000    1.000000    1.000000    1.000000    1.000000    1.000000   \n",
       "25%      0.000000    3.000000    3.000000    2.000000    1.000000    1.000000   \n",
       "50%      0.000000    4.000000    3.000000    3.000000    1.000000    2.000000   \n",
       "75%      0.000000    5.000000    4.000000    4.000000    2.000000    3.000000   \n",
       "max      3.000000    5.000000    5.000000    5.000000    5.000000    5.000000   \n",
       "\n",
       "           health    absences          G1          G2          G3  \n",
       "count  280.000000  280.000000  280.000000  280.000000  280.000000  \n",
       "mean     3.592857    5.660714   10.610714   10.578571   10.407143  \n",
       "std      1.408609    8.219386    3.357209    3.959595    4.545109  \n",
       "min      1.000000    0.000000    3.000000    0.000000    0.000000  \n",
       "25%      3.000000    0.000000    8.000000    8.000000    8.000000  \n",
       "50%      4.000000    4.000000   10.000000   10.000000   11.000000  \n",
       "75%      5.000000    8.000000   13.000000   13.000000   14.000000  \n",
       "max      5.000000   75.000000   19.000000   19.000000   20.000000  "
      ]
     },
     "execution_count": 7,
     "metadata": {},
     "output_type": "execute_result"
    }
   ],
   "source": [
    "data.describe()"
   ]
  },
  {
   "cell_type": "code",
   "execution_count": 8,
   "metadata": {
    "execution": {
     "iopub.execute_input": "2020-12-26T13:53:11.343227Z",
     "iopub.status.busy": "2020-12-26T13:53:11.342228Z",
     "iopub.status.idle": "2020-12-26T13:53:11.346144Z",
     "shell.execute_reply": "2020-12-26T13:53:11.346595Z"
    },
    "papermill": {
     "duration": 0.047464,
     "end_time": "2020-12-26T13:53:11.346741",
     "exception": false,
     "start_time": "2020-12-26T13:53:11.299277",
     "status": "completed"
    },
    "tags": []
   },
   "outputs": [
    {
     "data": {
      "text/plain": [
       "id            False\n",
       "school        False\n",
       "sex           False\n",
       "age           False\n",
       "address       False\n",
       "famsize       False\n",
       "Pstatus       False\n",
       "Medu          False\n",
       "Fedu          False\n",
       "Mjob          False\n",
       "Fjob          False\n",
       "reason        False\n",
       "guardian      False\n",
       "traveltime    False\n",
       "studytime     False\n",
       "failures      False\n",
       "schoolsup     False\n",
       "famsup        False\n",
       "paid          False\n",
       "activities    False\n",
       "nursery       False\n",
       "higher        False\n",
       "internet      False\n",
       "romantic      False\n",
       "famrel        False\n",
       "freetime      False\n",
       "goout         False\n",
       "Dalc          False\n",
       "Walc          False\n",
       "health        False\n",
       "absences      False\n",
       "G1            False\n",
       "G2            False\n",
       "G3            False\n",
       "dtype: bool"
      ]
     },
     "execution_count": 8,
     "metadata": {},
     "output_type": "execute_result"
    }
   ],
   "source": [
    "data.isnull().any()\n"
   ]
  },
  {
   "cell_type": "code",
   "execution_count": 9,
   "metadata": {
    "execution": {
     "iopub.execute_input": "2020-12-26T13:53:11.420220Z",
     "iopub.status.busy": "2020-12-26T13:53:11.419195Z",
     "iopub.status.idle": "2020-12-26T13:53:11.429547Z",
     "shell.execute_reply": "2020-12-26T13:53:11.429036Z"
    },
    "papermill": {
     "duration": 0.048312,
     "end_time": "2020-12-26T13:53:11.429662",
     "exception": false,
     "start_time": "2020-12-26T13:53:11.381350",
     "status": "completed"
    },
    "tags": []
   },
   "outputs": [
    {
     "data": {
      "text/plain": [
       "id            0\n",
       "school        0\n",
       "sex           0\n",
       "age           0\n",
       "address       0\n",
       "famsize       0\n",
       "Pstatus       0\n",
       "Medu          0\n",
       "Fedu          0\n",
       "Mjob          0\n",
       "Fjob          0\n",
       "reason        0\n",
       "guardian      0\n",
       "traveltime    0\n",
       "studytime     0\n",
       "failures      0\n",
       "schoolsup     0\n",
       "famsup        0\n",
       "paid          0\n",
       "activities    0\n",
       "nursery       0\n",
       "higher        0\n",
       "internet      0\n",
       "romantic      0\n",
       "famrel        0\n",
       "freetime      0\n",
       "goout         0\n",
       "Dalc          0\n",
       "Walc          0\n",
       "health        0\n",
       "absences      0\n",
       "G1            0\n",
       "G2            0\n",
       "G3            0\n",
       "dtype: int64"
      ]
     },
     "execution_count": 9,
     "metadata": {},
     "output_type": "execute_result"
    }
   ],
   "source": [
    "data.isnull().sum()"
   ]
  },
  {
   "cell_type": "code",
   "execution_count": 10,
   "metadata": {
    "execution": {
     "iopub.execute_input": "2020-12-26T13:53:11.517172Z",
     "iopub.status.busy": "2020-12-26T13:53:11.509546Z",
     "iopub.status.idle": "2020-12-26T13:53:11.781184Z",
     "shell.execute_reply": "2020-12-26T13:53:11.780573Z"
    },
    "papermill": {
     "duration": 0.315228,
     "end_time": "2020-12-26T13:53:11.781299",
     "exception": false,
     "start_time": "2020-12-26T13:53:11.466071",
     "status": "completed"
    },
    "tags": []
   },
   "outputs": [
    {
     "data": {
      "image/png": "[encoded data removed]",
      "text/plain": [
       "<Figure size 432x288 with 1 Axes>"
      ]
     },
     "metadata": {
      "needs_background": "light"
     },
     "output_type": "display_data"
    }
   ],
   "source": [
    "\n",
    "import matplotlib.pyplot as plt\n",
    "figure= sns.countplot(data['G3'])\n",
    "figure.axes.set_title('Répartition de la note finale des élèves', fontsize = 30)\n",
    "figure.set_xlabel(\"Note finale\")\n",
    "figure.set_ylabel(\"Count\")\n",
    "plt.show()"
   ]
  },
  {
   "cell_type": "code",
   "execution_count": 11,
   "metadata": {
    "execution": {
     "iopub.execute_input": "2020-12-26T13:53:11.862470Z",
     "iopub.status.busy": "2020-12-26T13:53:11.861655Z",
     "iopub.status.idle": "2020-12-26T13:53:11.866365Z",
     "shell.execute_reply": "2020-12-26T13:53:11.865778Z"
    },
    "papermill": {
     "duration": 0.048343,
     "end_time": "2020-12-26T13:53:11.866484",
     "exception": false,
     "start_time": "2020-12-26T13:53:11.818141",
     "status": "completed"
    },
    "tags": []
   },
   "outputs": [
    {
     "name": "stdout",
     "output_type": "stream",
     "text": [
      "le nombre d' étudiants masculin : 143\n",
      "le nombre d'étudiants Feminin: 137\n"
     ]
    }
   ],
   "source": [
    "print(\"le nombre d' étudiants masculin :\",len(data[data['sex']==\"M\"]))\n",
    "print(\"le nombre d'étudiants Feminin:\",len(data[data['sex']==\"F\"]))"
   ]
  },
  {
   "cell_type": "code",
   "execution_count": 12,
   "metadata": {
    "execution": {
     "iopub.execute_input": "2020-12-26T13:53:11.957173Z",
     "iopub.status.busy": "2020-12-26T13:53:11.955883Z",
     "iopub.status.idle": "2020-12-26T13:53:12.126193Z",
     "shell.execute_reply": "2020-12-26T13:53:12.125607Z"
    },
    "papermill": {
     "duration": 0.222178,
     "end_time": "2020-12-26T13:53:12.126315",
     "exception": false,
     "start_time": "2020-12-26T13:53:11.904137",
     "status": "completed"
    },
    "tags": []
   },
   "outputs": [
    {
     "data": {
      "text/plain": [
       "Text(0, 0.5, 'Count')"
      ]
     },
     "execution_count": 12,
     "metadata": {},
     "output_type": "execute_result"
    },
    {
     "data": {
      "image/png": "[encoded data removed]",
      "text/plain": [
       "<Figure size 432x288 with 1 Axes>"
      ]
     },
     "metadata": {
      "needs_background": "light"
     },
     "output_type": "display_data"
    }
   ],
   "source": [
    "plt.title('les groupes d\\'âge ', fontsize = 30)\n",
    "plt.hist(data.age,rwidth=0.8)\n",
    "plt.xlabel(\"Age\")\n",
    "plt.ylabel(\"Count\")"
   ]
  },
  {
   "cell_type": "code",
   "execution_count": 13,
   "metadata": {
    "execution": {
     "iopub.execute_input": "2020-12-26T13:53:12.223867Z",
     "iopub.status.busy": "2020-12-26T13:53:12.222714Z",
     "iopub.status.idle": "2020-12-26T13:53:12.325288Z",
     "shell.execute_reply": "2020-12-26T13:53:12.325755Z"
    },
    "papermill": {
     "duration": 0.161364,
     "end_time": "2020-12-26T13:53:12.325967",
     "exception": false,
     "start_time": "2020-12-26T13:53:12.164603",
     "status": "completed"
    },
    "tags": []
   },
   "outputs": [
    {
     "data": {
      "image/png": "[encoded data removed]",
      "text/plain": [
       "<Figure size 432x288 with 1 Axes>"
      ]
     },
     "metadata": {
      "needs_background": "light"
     },
     "output_type": "display_data"
    }
   ],
   "source": [
    "fig = sns.countplot(data['address'])\n",
    "fig.axes.set_title('Étudiants urbains VS ruraux', fontsize = 30)\n",
    "fig.set_xlabel('Address', fontsize = 20)\n",
    "fig.set_ylabel('Count', fontsize = 20)\n",
    "plt.show()"
   ]
  },
  {
   "cell_type": "code",
   "execution_count": 14,
   "metadata": {
    "execution": {
     "iopub.execute_input": "2020-12-26T13:53:12.415335Z",
     "iopub.status.busy": "2020-12-26T13:53:12.411910Z",
     "iopub.status.idle": "2020-12-26T13:53:12.419410Z",
     "shell.execute_reply": "2020-12-26T13:53:12.419888Z"
    },
    "papermill": {
     "duration": 0.054809,
     "end_time": "2020-12-26T13:53:12.420058",
     "exception": false,
     "start_time": "2020-12-26T13:53:12.365249",
     "status": "completed"
    },
    "tags": []
   },
   "outputs": [
    {
     "data": {
      "text/plain": [
       "failures     -0.406515\n",
       "age          -0.229376\n",
       "goout        -0.198983\n",
       "id           -0.169301\n",
       "traveltime   -0.126019\n",
       "health       -0.090462\n",
       "Walc         -0.056692\n",
       "Dalc         -0.044355\n",
       "absences      0.008220\n",
       "freetime      0.009685\n",
       "studytime     0.018317\n",
       "famrel        0.064597\n",
       "Fedu          0.159524\n",
       "Medu          0.218824\n",
       "G1            0.804838\n",
       "G2            0.929286\n",
       "G3            1.000000\n",
       "Name: G3, dtype: float64"
      ]
     },
     "execution_count": 14,
     "metadata": {},
     "output_type": "execute_result"
    }
   ],
   "source": [
    "#avoir les corrélations des attributs avec G3 par ordre croissant\n",
    "data.corr()['G3'].sort_values()\n"
   ]
  },
  {
   "cell_type": "code",
   "execution_count": 15,
   "metadata": {
    "execution": {
     "iopub.execute_input": "2020-12-26T13:53:12.508349Z",
     "iopub.status.busy": "2020-12-26T13:53:12.507517Z",
     "iopub.status.idle": "2020-12-26T13:53:12.512005Z",
     "shell.execute_reply": "2020-12-26T13:53:12.511348Z"
    },
    "papermill": {
     "duration": 0.052402,
     "end_time": "2020-12-26T13:53:12.512120",
     "exception": false,
     "start_time": "2020-12-26T13:53:12.459718",
     "status": "completed"
    },
    "tags": []
   },
   "outputs": [
    {
     "data": {
      "text/plain": [
       "GP    280\n",
       "Name: school, dtype: int64"
      ]
     },
     "execution_count": 15,
     "metadata": {},
     "output_type": "execute_result"
    }
   ],
   "source": [
    "data['school'].value_counts()\n"
   ]
  },
  {
   "cell_type": "code",
   "execution_count": 16,
   "metadata": {
    "execution": {
     "iopub.execute_input": "2020-12-26T13:53:12.603314Z",
     "iopub.status.busy": "2020-12-26T13:53:12.602485Z",
     "iopub.status.idle": "2020-12-26T13:53:12.607007Z",
     "shell.execute_reply": "2020-12-26T13:53:12.606428Z"
    },
    "papermill": {
     "duration": 0.054768,
     "end_time": "2020-12-26T13:53:12.607120",
     "exception": false,
     "start_time": "2020-12-26T13:53:12.552352",
     "status": "completed"
    },
    "tags": []
   },
   "outputs": [
    {
     "data": {
      "text/plain": [
       "sex\n",
       "F     9.817518\n",
       "M    10.972028\n",
       "Name: G3, dtype: float64"
      ]
     },
     "execution_count": 16,
     "metadata": {},
     "output_type": "execute_result"
    }
   ],
   "source": [
    "data.groupby('sex')['G3'].mean()"
   ]
  },
  {
   "cell_type": "code",
   "execution_count": 17,
   "metadata": {
    "execution": {
     "iopub.execute_input": "2020-12-26T13:53:12.714908Z",
     "iopub.status.busy": "2020-12-26T13:53:12.707804Z",
     "iopub.status.idle": "2020-12-26T13:53:12.720247Z",
     "shell.execute_reply": "2020-12-26T13:53:12.719701Z"
    },
    "papermill": {
     "duration": 0.072718,
     "end_time": "2020-12-26T13:53:12.720364",
     "exception": false,
     "start_time": "2020-12-26T13:53:12.647646",
     "status": "completed"
    },
    "tags": []
   },
   "outputs": [
    {
     "data": {
      "text/html": [
       "<div>\n",
       "<style scoped>\n",
       "    .dataframe tbody tr th:only-of-type {\n",
       "        vertical-align: middle;\n",
       "    }\n",
       "\n",
       "    .dataframe tbody tr th {\n",
       "        vertical-align: top;\n",
       "    }\n",
       "\n",
       "    .dataframe thead th {\n",
       "        text-align: right;\n",
       "    }\n",
       "</style>\n",
       "<table border=\"1\" class=\"dataframe\">\n",
       "  <thead>\n",
       "    <tr style=\"text-align: right;\">\n",
       "      <th></th>\n",
       "      <th>id</th>\n",
       "      <th>school</th>\n",
       "      <th>sex</th>\n",
       "      <th>age</th>\n",
       "      <th>address</th>\n",
       "      <th>famsize</th>\n",
       "      <th>Pstatus</th>\n",
       "      <th>Medu</th>\n",
       "      <th>Fedu</th>\n",
       "      <th>Mjob</th>\n",
       "      <th>...</th>\n",
       "      <th>famrel</th>\n",
       "      <th>freetime</th>\n",
       "      <th>goout</th>\n",
       "      <th>Dalc</th>\n",
       "      <th>Walc</th>\n",
       "      <th>health</th>\n",
       "      <th>absences</th>\n",
       "      <th>G1</th>\n",
       "      <th>G2</th>\n",
       "      <th>G3</th>\n",
       "    </tr>\n",
       "  </thead>\n",
       "  <tbody>\n",
       "    <tr>\n",
       "      <th>0</th>\n",
       "      <td>1</td>\n",
       "      <td>GP</td>\n",
       "      <td>F</td>\n",
       "      <td>18</td>\n",
       "      <td>U</td>\n",
       "      <td>GT3</td>\n",
       "      <td>A</td>\n",
       "      <td>4</td>\n",
       "      <td>4</td>\n",
       "      <td>at_home</td>\n",
       "      <td>...</td>\n",
       "      <td>4</td>\n",
       "      <td>3</td>\n",
       "      <td>4</td>\n",
       "      <td>1</td>\n",
       "      <td>1</td>\n",
       "      <td>3</td>\n",
       "      <td>6</td>\n",
       "      <td>5</td>\n",
       "      <td>6</td>\n",
       "      <td>6</td>\n",
       "    </tr>\n",
       "    <tr>\n",
       "      <th>1</th>\n",
       "      <td>2</td>\n",
       "      <td>GP</td>\n",
       "      <td>F</td>\n",
       "      <td>17</td>\n",
       "      <td>U</td>\n",
       "      <td>GT3</td>\n",
       "      <td>T</td>\n",
       "      <td>1</td>\n",
       "      <td>1</td>\n",
       "      <td>at_home</td>\n",
       "      <td>...</td>\n",
       "      <td>5</td>\n",
       "      <td>3</td>\n",
       "      <td>3</td>\n",
       "      <td>1</td>\n",
       "      <td>1</td>\n",
       "      <td>3</td>\n",
       "      <td>4</td>\n",
       "      <td>5</td>\n",
       "      <td>5</td>\n",
       "      <td>6</td>\n",
       "    </tr>\n",
       "    <tr>\n",
       "      <th>2</th>\n",
       "      <td>3</td>\n",
       "      <td>GP</td>\n",
       "      <td>F</td>\n",
       "      <td>15</td>\n",
       "      <td>U</td>\n",
       "      <td>LE3</td>\n",
       "      <td>T</td>\n",
       "      <td>1</td>\n",
       "      <td>1</td>\n",
       "      <td>at_home</td>\n",
       "      <td>...</td>\n",
       "      <td>4</td>\n",
       "      <td>3</td>\n",
       "      <td>2</td>\n",
       "      <td>2</td>\n",
       "      <td>3</td>\n",
       "      <td>3</td>\n",
       "      <td>10</td>\n",
       "      <td>7</td>\n",
       "      <td>8</td>\n",
       "      <td>10</td>\n",
       "    </tr>\n",
       "    <tr>\n",
       "      <th>3</th>\n",
       "      <td>4</td>\n",
       "      <td>GP</td>\n",
       "      <td>F</td>\n",
       "      <td>15</td>\n",
       "      <td>U</td>\n",
       "      <td>GT3</td>\n",
       "      <td>T</td>\n",
       "      <td>4</td>\n",
       "      <td>2</td>\n",
       "      <td>health</td>\n",
       "      <td>...</td>\n",
       "      <td>3</td>\n",
       "      <td>2</td>\n",
       "      <td>2</td>\n",
       "      <td>1</td>\n",
       "      <td>1</td>\n",
       "      <td>5</td>\n",
       "      <td>2</td>\n",
       "      <td>15</td>\n",
       "      <td>14</td>\n",
       "      <td>15</td>\n",
       "    </tr>\n",
       "    <tr>\n",
       "      <th>4</th>\n",
       "      <td>5</td>\n",
       "      <td>GP</td>\n",
       "      <td>F</td>\n",
       "      <td>16</td>\n",
       "      <td>U</td>\n",
       "      <td>GT3</td>\n",
       "      <td>T</td>\n",
       "      <td>3</td>\n",
       "      <td>3</td>\n",
       "      <td>other</td>\n",
       "      <td>...</td>\n",
       "      <td>4</td>\n",
       "      <td>3</td>\n",
       "      <td>2</td>\n",
       "      <td>1</td>\n",
       "      <td>2</td>\n",
       "      <td>5</td>\n",
       "      <td>4</td>\n",
       "      <td>6</td>\n",
       "      <td>10</td>\n",
       "      <td>10</td>\n",
       "    </tr>\n",
       "  </tbody>\n",
       "</table>\n",
       "<p>5 rows × 34 columns</p>\n",
       "</div>"
      ],
      "text/plain": [
       "   id school sex  age address famsize Pstatus  Medu  Fedu     Mjob  ...  \\\n",
       "0   1     GP   F   18       U     GT3       A     4     4  at_home  ...   \n",
       "1   2     GP   F   17       U     GT3       T     1     1  at_home  ...   \n",
       "2   3     GP   F   15       U     LE3       T     1     1  at_home  ...   \n",
       "3   4     GP   F   15       U     GT3       T     4     2   health  ...   \n",
       "4   5     GP   F   16       U     GT3       T     3     3    other  ...   \n",
       "\n",
       "  famrel freetime goout  Dalc  Walc  health absences  G1  G2  G3  \n",
       "0      4        3     4     1     1       3        6   5   6   6  \n",
       "1      5        3     3     1     1       3        4   5   5   6  \n",
       "2      4        3     2     2     3       3       10   7   8  10  \n",
       "3      3        2     2     1     1       5        2  15  14  15  \n",
       "4      4        3     2     1     2       5        4   6  10  10  \n",
       "\n",
       "[5 rows x 34 columns]"
      ]
     },
     "execution_count": 17,
     "metadata": {},
     "output_type": "execute_result"
    }
   ],
   "source": [
    "\n",
    "data.head()\n"
   ]
  },
  {
   "cell_type": "code",
   "execution_count": 18,
   "metadata": {
    "execution": {
     "iopub.execute_input": "2020-12-26T13:53:12.830871Z",
     "iopub.status.busy": "2020-12-26T13:53:12.819574Z",
     "iopub.status.idle": "2020-12-26T13:53:12.835770Z",
     "shell.execute_reply": "2020-12-26T13:53:12.835201Z"
    },
    "papermill": {
     "duration": 0.074106,
     "end_time": "2020-12-26T13:53:12.835881",
     "exception": false,
     "start_time": "2020-12-26T13:53:12.761775",
     "status": "completed"
    },
    "tags": []
   },
   "outputs": [
    {
     "data": {
      "text/html": [
       "<div>\n",
       "<style scoped>\n",
       "    .dataframe tbody tr th:only-of-type {\n",
       "        vertical-align: middle;\n",
       "    }\n",
       "\n",
       "    .dataframe tbody tr th {\n",
       "        vertical-align: top;\n",
       "    }\n",
       "\n",
       "    .dataframe thead th {\n",
       "        text-align: right;\n",
       "    }\n",
       "</style>\n",
       "<table border=\"1\" class=\"dataframe\">\n",
       "  <thead>\n",
       "    <tr style=\"text-align: right;\">\n",
       "      <th></th>\n",
       "      <th>id</th>\n",
       "      <th>school</th>\n",
       "      <th>sex</th>\n",
       "      <th>age</th>\n",
       "      <th>address</th>\n",
       "      <th>famsize</th>\n",
       "      <th>Pstatus</th>\n",
       "      <th>Medu</th>\n",
       "      <th>Fedu</th>\n",
       "      <th>Mjob</th>\n",
       "      <th>...</th>\n",
       "      <th>famrel</th>\n",
       "      <th>freetime</th>\n",
       "      <th>goout</th>\n",
       "      <th>Dalc</th>\n",
       "      <th>Walc</th>\n",
       "      <th>health</th>\n",
       "      <th>absences</th>\n",
       "      <th>G1</th>\n",
       "      <th>G2</th>\n",
       "      <th>G3</th>\n",
       "    </tr>\n",
       "  </thead>\n",
       "  <tbody>\n",
       "    <tr>\n",
       "      <th>0</th>\n",
       "      <td>1</td>\n",
       "      <td>GP</td>\n",
       "      <td>F</td>\n",
       "      <td>18</td>\n",
       "      <td>U</td>\n",
       "      <td>GT3</td>\n",
       "      <td>A</td>\n",
       "      <td>4</td>\n",
       "      <td>4</td>\n",
       "      <td>at_home</td>\n",
       "      <td>...</td>\n",
       "      <td>4</td>\n",
       "      <td>3</td>\n",
       "      <td>4</td>\n",
       "      <td>1</td>\n",
       "      <td>1</td>\n",
       "      <td>3</td>\n",
       "      <td>6</td>\n",
       "      <td>5</td>\n",
       "      <td>6</td>\n",
       "      <td>6</td>\n",
       "    </tr>\n",
       "    <tr>\n",
       "      <th>1</th>\n",
       "      <td>2</td>\n",
       "      <td>GP</td>\n",
       "      <td>F</td>\n",
       "      <td>17</td>\n",
       "      <td>U</td>\n",
       "      <td>GT3</td>\n",
       "      <td>T</td>\n",
       "      <td>1</td>\n",
       "      <td>1</td>\n",
       "      <td>at_home</td>\n",
       "      <td>...</td>\n",
       "      <td>5</td>\n",
       "      <td>3</td>\n",
       "      <td>3</td>\n",
       "      <td>1</td>\n",
       "      <td>1</td>\n",
       "      <td>3</td>\n",
       "      <td>4</td>\n",
       "      <td>5</td>\n",
       "      <td>5</td>\n",
       "      <td>6</td>\n",
       "    </tr>\n",
       "    <tr>\n",
       "      <th>2</th>\n",
       "      <td>3</td>\n",
       "      <td>GP</td>\n",
       "      <td>F</td>\n",
       "      <td>15</td>\n",
       "      <td>U</td>\n",
       "      <td>LE3</td>\n",
       "      <td>T</td>\n",
       "      <td>1</td>\n",
       "      <td>1</td>\n",
       "      <td>at_home</td>\n",
       "      <td>...</td>\n",
       "      <td>4</td>\n",
       "      <td>3</td>\n",
       "      <td>2</td>\n",
       "      <td>2</td>\n",
       "      <td>3</td>\n",
       "      <td>3</td>\n",
       "      <td>10</td>\n",
       "      <td>7</td>\n",
       "      <td>8</td>\n",
       "      <td>10</td>\n",
       "    </tr>\n",
       "    <tr>\n",
       "      <th>3</th>\n",
       "      <td>4</td>\n",
       "      <td>GP</td>\n",
       "      <td>F</td>\n",
       "      <td>15</td>\n",
       "      <td>U</td>\n",
       "      <td>GT3</td>\n",
       "      <td>T</td>\n",
       "      <td>4</td>\n",
       "      <td>2</td>\n",
       "      <td>health</td>\n",
       "      <td>...</td>\n",
       "      <td>3</td>\n",
       "      <td>2</td>\n",
       "      <td>2</td>\n",
       "      <td>1</td>\n",
       "      <td>1</td>\n",
       "      <td>5</td>\n",
       "      <td>2</td>\n",
       "      <td>15</td>\n",
       "      <td>14</td>\n",
       "      <td>15</td>\n",
       "    </tr>\n",
       "    <tr>\n",
       "      <th>4</th>\n",
       "      <td>5</td>\n",
       "      <td>GP</td>\n",
       "      <td>F</td>\n",
       "      <td>16</td>\n",
       "      <td>U</td>\n",
       "      <td>GT3</td>\n",
       "      <td>T</td>\n",
       "      <td>3</td>\n",
       "      <td>3</td>\n",
       "      <td>other</td>\n",
       "      <td>...</td>\n",
       "      <td>4</td>\n",
       "      <td>3</td>\n",
       "      <td>2</td>\n",
       "      <td>1</td>\n",
       "      <td>2</td>\n",
       "      <td>5</td>\n",
       "      <td>4</td>\n",
       "      <td>6</td>\n",
       "      <td>10</td>\n",
       "      <td>10</td>\n",
       "    </tr>\n",
       "  </tbody>\n",
       "</table>\n",
       "<p>5 rows × 34 columns</p>\n",
       "</div>"
      ],
      "text/plain": [
       "   id school sex  age address famsize Pstatus  Medu  Fedu     Mjob  ...  \\\n",
       "0   1     GP   F   18       U     GT3       A     4     4  at_home  ...   \n",
       "1   2     GP   F   17       U     GT3       T     1     1  at_home  ...   \n",
       "2   3     GP   F   15       U     LE3       T     1     1  at_home  ...   \n",
       "3   4     GP   F   15       U     GT3       T     4     2   health  ...   \n",
       "4   5     GP   F   16       U     GT3       T     3     3    other  ...   \n",
       "\n",
       "  famrel freetime goout  Dalc  Walc  health absences  G1  G2  G3  \n",
       "0      4        3     4     1     1       3        6   5   6   6  \n",
       "1      5        3     3     1     1       3        4   5   5   6  \n",
       "2      4        3     2     2     3       3       10   7   8  10  \n",
       "3      3        2     2     1     1       5        2  15  14  15  \n",
       "4      4        3     2     1     2       5        4   6  10  10  \n",
       "\n",
       "[5 rows x 34 columns]"
      ]
     },
     "execution_count": 18,
     "metadata": {},
     "output_type": "execute_result"
    }
   ],
   "source": [
    "\n",
    "data.head()"
   ]
  },
  {
   "cell_type": "code",
   "execution_count": 19,
   "metadata": {
    "execution": {
     "iopub.execute_input": "2020-12-26T13:53:12.930594Z",
     "iopub.status.busy": "2020-12-26T13:53:12.929470Z",
     "iopub.status.idle": "2020-12-26T13:53:12.933112Z",
     "shell.execute_reply": "2020-12-26T13:53:12.932545Z"
    },
    "papermill": {
     "duration": 0.055355,
     "end_time": "2020-12-26T13:53:12.933226",
     "exception": false,
     "start_time": "2020-12-26T13:53:12.877871",
     "status": "completed"
    },
    "tags": []
   },
   "outputs": [],
   "source": [
    "#on supprime les colonnes suivantes\n",
    "data_work=data.drop([\"school\", 'address', 'famsize', 'Pstatus', 'Mjob', 'Fjob', 'reason', 'guardian', 'traveltime',\n",
    "         'schoolsup', 'famsup', 'paid', 'activities', 'nursery',\n",
    "       'higher', 'romantic', 'goout', 'Dalc',\n",
    "       'Walc', 'health','studytime','age','failures','famrel','internet','Medu','Fedu','freetime','id','absences'],axis=1)"
   ]
  },
  {
   "cell_type": "code",
   "execution_count": 20,
   "metadata": {
    "execution": {
     "iopub.execute_input": "2020-12-26T13:53:13.024403Z",
     "iopub.status.busy": "2020-12-26T13:53:13.023565Z",
     "iopub.status.idle": "2020-12-26T13:53:13.047582Z",
     "shell.execute_reply": "2020-12-26T13:53:13.046917Z"
    },
    "papermill": {
     "duration": 0.072036,
     "end_time": "2020-12-26T13:53:13.047719",
     "exception": false,
     "start_time": "2020-12-26T13:53:12.975683",
     "status": "completed"
    },
    "tags": []
   },
   "outputs": [],
   "source": [
    "import math\n",
    "data_work['GradeAvg'] =round((data_work['G1'] + data_work['G2'] + data_work['G3']) / 3)\n",
    "\n"
   ]
  },
  {
   "cell_type": "code",
   "execution_count": 21,
   "metadata": {
    "execution": {
     "iopub.execute_input": "2020-12-26T13:53:13.143883Z",
     "iopub.status.busy": "2020-12-26T13:53:13.143224Z",
     "iopub.status.idle": "2020-12-26T13:53:13.146090Z",
     "shell.execute_reply": "2020-12-26T13:53:13.146579Z"
    },
    "papermill": {
     "duration": 0.055944,
     "end_time": "2020-12-26T13:53:13.146722",
     "exception": false,
     "start_time": "2020-12-26T13:53:13.090778",
     "status": "completed"
    },
    "tags": []
   },
   "outputs": [
    {
     "data": {
      "text/html": [
       "<div>\n",
       "<style scoped>\n",
       "    .dataframe tbody tr th:only-of-type {\n",
       "        vertical-align: middle;\n",
       "    }\n",
       "\n",
       "    .dataframe tbody tr th {\n",
       "        vertical-align: top;\n",
       "    }\n",
       "\n",
       "    .dataframe thead th {\n",
       "        text-align: right;\n",
       "    }\n",
       "</style>\n",
       "<table border=\"1\" class=\"dataframe\">\n",
       "  <thead>\n",
       "    <tr style=\"text-align: right;\">\n",
       "      <th></th>\n",
       "      <th>sex</th>\n",
       "      <th>G1</th>\n",
       "      <th>G2</th>\n",
       "      <th>G3</th>\n",
       "      <th>GradeAvg</th>\n",
       "    </tr>\n",
       "  </thead>\n",
       "  <tbody>\n",
       "    <tr>\n",
       "      <th>0</th>\n",
       "      <td>F</td>\n",
       "      <td>5</td>\n",
       "      <td>6</td>\n",
       "      <td>6</td>\n",
       "      <td>6.0</td>\n",
       "    </tr>\n",
       "    <tr>\n",
       "      <th>1</th>\n",
       "      <td>F</td>\n",
       "      <td>5</td>\n",
       "      <td>5</td>\n",
       "      <td>6</td>\n",
       "      <td>5.0</td>\n",
       "    </tr>\n",
       "    <tr>\n",
       "      <th>2</th>\n",
       "      <td>F</td>\n",
       "      <td>7</td>\n",
       "      <td>8</td>\n",
       "      <td>10</td>\n",
       "      <td>8.0</td>\n",
       "    </tr>\n",
       "    <tr>\n",
       "      <th>3</th>\n",
       "      <td>F</td>\n",
       "      <td>15</td>\n",
       "      <td>14</td>\n",
       "      <td>15</td>\n",
       "      <td>15.0</td>\n",
       "    </tr>\n",
       "    <tr>\n",
       "      <th>4</th>\n",
       "      <td>F</td>\n",
       "      <td>6</td>\n",
       "      <td>10</td>\n",
       "      <td>10</td>\n",
       "      <td>9.0</td>\n",
       "    </tr>\n",
       "  </tbody>\n",
       "</table>\n",
       "</div>"
      ],
      "text/plain": [
       "  sex  G1  G2  G3  GradeAvg\n",
       "0   F   5   6   6       6.0\n",
       "1   F   5   5   6       5.0\n",
       "2   F   7   8  10       8.0\n",
       "3   F  15  14  15      15.0\n",
       "4   F   6  10  10       9.0"
      ]
     },
     "execution_count": 21,
     "metadata": {},
     "output_type": "execute_result"
    }
   ],
   "source": [
    "data_work.head()"
   ]
  },
  {
   "cell_type": "code",
   "execution_count": 22,
   "metadata": {
    "execution": {
     "iopub.execute_input": "2020-12-26T13:53:13.236483Z",
     "iopub.status.busy": "2020-12-26T13:53:13.235839Z",
     "iopub.status.idle": "2020-12-26T13:53:13.246290Z",
     "shell.execute_reply": "2020-12-26T13:53:13.246846Z"
    },
    "papermill": {
     "duration": 0.057496,
     "end_time": "2020-12-26T13:53:13.247030",
     "exception": false,
     "start_time": "2020-12-26T13:53:13.189534",
     "status": "completed"
    },
    "tags": []
   },
   "outputs": [
    {
     "data": {
      "text/html": [
       "<div>\n",
       "<style scoped>\n",
       "    .dataframe tbody tr th:only-of-type {\n",
       "        vertical-align: middle;\n",
       "    }\n",
       "\n",
       "    .dataframe tbody tr th {\n",
       "        vertical-align: top;\n",
       "    }\n",
       "\n",
       "    .dataframe thead th {\n",
       "        text-align: right;\n",
       "    }\n",
       "</style>\n",
       "<table border=\"1\" class=\"dataframe\">\n",
       "  <thead>\n",
       "    <tr style=\"text-align: right;\">\n",
       "      <th></th>\n",
       "      <th>sex</th>\n",
       "      <th>G1</th>\n",
       "      <th>G2</th>\n",
       "      <th>G3</th>\n",
       "      <th>GradeAvg</th>\n",
       "    </tr>\n",
       "  </thead>\n",
       "  <tbody>\n",
       "    <tr>\n",
       "      <th>0</th>\n",
       "      <td>F</td>\n",
       "      <td>5</td>\n",
       "      <td>6</td>\n",
       "      <td>6</td>\n",
       "      <td>6.0</td>\n",
       "    </tr>\n",
       "    <tr>\n",
       "      <th>1</th>\n",
       "      <td>F</td>\n",
       "      <td>5</td>\n",
       "      <td>5</td>\n",
       "      <td>6</td>\n",
       "      <td>5.0</td>\n",
       "    </tr>\n",
       "    <tr>\n",
       "      <th>2</th>\n",
       "      <td>F</td>\n",
       "      <td>7</td>\n",
       "      <td>8</td>\n",
       "      <td>10</td>\n",
       "      <td>8.0</td>\n",
       "    </tr>\n",
       "    <tr>\n",
       "      <th>3</th>\n",
       "      <td>F</td>\n",
       "      <td>15</td>\n",
       "      <td>14</td>\n",
       "      <td>15</td>\n",
       "      <td>15.0</td>\n",
       "    </tr>\n",
       "    <tr>\n",
       "      <th>4</th>\n",
       "      <td>F</td>\n",
       "      <td>6</td>\n",
       "      <td>10</td>\n",
       "      <td>10</td>\n",
       "      <td>9.0</td>\n",
       "    </tr>\n",
       "  </tbody>\n",
       "</table>\n",
       "</div>"
      ],
      "text/plain": [
       "  sex  G1  G2  G3  GradeAvg\n",
       "0   F   5   6   6       6.0\n",
       "1   F   5   5   6       5.0\n",
       "2   F   7   8  10       8.0\n",
       "3   F  15  14  15      15.0\n",
       "4   F   6  10  10       9.0"
      ]
     },
     "execution_count": 22,
     "metadata": {},
     "output_type": "execute_result"
    }
   ],
   "source": [
    "data_work.head()"
   ]
  },
  {
   "cell_type": "code",
   "execution_count": 23,
   "metadata": {
    "execution": {
     "iopub.execute_input": "2020-12-26T13:53:13.337855Z",
     "iopub.status.busy": "2020-12-26T13:53:13.337191Z",
     "iopub.status.idle": "2020-12-26T13:53:13.350229Z",
     "shell.execute_reply": "2020-12-26T13:53:13.349695Z"
    },
    "papermill": {
     "duration": 0.059577,
     "end_time": "2020-12-26T13:53:13.350344",
     "exception": false,
     "start_time": "2020-12-26T13:53:13.290767",
     "status": "completed"
    },
    "tags": []
   },
   "outputs": [
    {
     "data": {
      "text/html": [
       "<div>\n",
       "<style scoped>\n",
       "    .dataframe tbody tr th:only-of-type {\n",
       "        vertical-align: middle;\n",
       "    }\n",
       "\n",
       "    .dataframe tbody tr th {\n",
       "        vertical-align: top;\n",
       "    }\n",
       "\n",
       "    .dataframe thead th {\n",
       "        text-align: right;\n",
       "    }\n",
       "</style>\n",
       "<table border=\"1\" class=\"dataframe\">\n",
       "  <thead>\n",
       "    <tr style=\"text-align: right;\">\n",
       "      <th></th>\n",
       "      <th>sex</th>\n",
       "      <th>G1</th>\n",
       "      <th>G2</th>\n",
       "      <th>G3</th>\n",
       "      <th>GradeAvg</th>\n",
       "    </tr>\n",
       "  </thead>\n",
       "  <tbody>\n",
       "    <tr>\n",
       "      <th>275</th>\n",
       "      <td>F</td>\n",
       "      <td>12</td>\n",
       "      <td>12</td>\n",
       "      <td>12</td>\n",
       "      <td>12.0</td>\n",
       "    </tr>\n",
       "    <tr>\n",
       "      <th>276</th>\n",
       "      <td>F</td>\n",
       "      <td>10</td>\n",
       "      <td>9</td>\n",
       "      <td>9</td>\n",
       "      <td>9.0</td>\n",
       "    </tr>\n",
       "    <tr>\n",
       "      <th>277</th>\n",
       "      <td>M</td>\n",
       "      <td>9</td>\n",
       "      <td>9</td>\n",
       "      <td>9</td>\n",
       "      <td>9.0</td>\n",
       "    </tr>\n",
       "    <tr>\n",
       "      <th>278</th>\n",
       "      <td>F</td>\n",
       "      <td>9</td>\n",
       "      <td>8</td>\n",
       "      <td>8</td>\n",
       "      <td>8.0</td>\n",
       "    </tr>\n",
       "    <tr>\n",
       "      <th>279</th>\n",
       "      <td>M</td>\n",
       "      <td>10</td>\n",
       "      <td>11</td>\n",
       "      <td>10</td>\n",
       "      <td>10.0</td>\n",
       "    </tr>\n",
       "  </tbody>\n",
       "</table>\n",
       "</div>"
      ],
      "text/plain": [
       "    sex  G1  G2  G3  GradeAvg\n",
       "275   F  12  12  12      12.0\n",
       "276   F  10   9   9       9.0\n",
       "277   M   9   9   9       9.0\n",
       "278   F   9   8   8       8.0\n",
       "279   M  10  11  10      10.0"
      ]
     },
     "execution_count": 23,
     "metadata": {},
     "output_type": "execute_result"
    }
   ],
   "source": [
    "data_work.tail(5)"
   ]
  },
  {
   "cell_type": "code",
   "execution_count": null,
   "metadata": {
    "papermill": {
     "duration": 0.043675,
     "end_time": "2020-12-26T13:53:13.439280",
     "exception": false,
     "start_time": "2020-12-26T13:53:13.395605",
     "status": "completed"
    },
    "tags": []
   },
   "outputs": [],
   "source": []
  },
  {
   "cell_type": "code",
   "execution_count": 24,
   "metadata": {
    "execution": {
     "iopub.execute_input": "2020-12-26T13:53:13.537020Z",
     "iopub.status.busy": "2020-12-26T13:53:13.536352Z",
     "iopub.status.idle": "2020-12-26T13:53:13.539263Z",
     "shell.execute_reply": "2020-12-26T13:53:13.538676Z"
    },
    "papermill": {
     "duration": 0.053844,
     "end_time": "2020-12-26T13:53:13.539379",
     "exception": false,
     "start_time": "2020-12-26T13:53:13.485535",
     "status": "completed"
    },
    "tags": []
   },
   "outputs": [],
   "source": [
    "#Convertir en valeur catégorielle\n",
    "#sex \n",
    "sexc = {'F': 1, 'M': 0}\n",
    "data_work['sex'] = data_work['sex'].map(sexc)\n",
    "#val={'yes': 1, 'no': 0}\n",
    "#data_work['internet'] =data_work['internet'].map(val)\n",
    "\n",
    "\n",
    "\n",
    "\n"
   ]
  },
  {
   "cell_type": "code",
   "execution_count": 25,
   "metadata": {
    "execution": {
     "iopub.execute_input": "2020-12-26T13:53:13.630691Z",
     "iopub.status.busy": "2020-12-26T13:53:13.630067Z",
     "iopub.status.idle": "2020-12-26T13:53:13.641494Z",
     "shell.execute_reply": "2020-12-26T13:53:13.640790Z"
    },
    "papermill": {
     "duration": 0.058172,
     "end_time": "2020-12-26T13:53:13.641609",
     "exception": false,
     "start_time": "2020-12-26T13:53:13.583437",
     "status": "completed"
    },
    "tags": []
   },
   "outputs": [
    {
     "data": {
      "text/html": [
       "<div>\n",
       "<style scoped>\n",
       "    .dataframe tbody tr th:only-of-type {\n",
       "        vertical-align: middle;\n",
       "    }\n",
       "\n",
       "    .dataframe tbody tr th {\n",
       "        vertical-align: top;\n",
       "    }\n",
       "\n",
       "    .dataframe thead th {\n",
       "        text-align: right;\n",
       "    }\n",
       "</style>\n",
       "<table border=\"1\" class=\"dataframe\">\n",
       "  <thead>\n",
       "    <tr style=\"text-align: right;\">\n",
       "      <th></th>\n",
       "      <th>sex</th>\n",
       "      <th>G1</th>\n",
       "      <th>G2</th>\n",
       "      <th>G3</th>\n",
       "      <th>GradeAvg</th>\n",
       "    </tr>\n",
       "  </thead>\n",
       "  <tbody>\n",
       "    <tr>\n",
       "      <th>0</th>\n",
       "      <td>1</td>\n",
       "      <td>5</td>\n",
       "      <td>6</td>\n",
       "      <td>6</td>\n",
       "      <td>6.0</td>\n",
       "    </tr>\n",
       "    <tr>\n",
       "      <th>1</th>\n",
       "      <td>1</td>\n",
       "      <td>5</td>\n",
       "      <td>5</td>\n",
       "      <td>6</td>\n",
       "      <td>5.0</td>\n",
       "    </tr>\n",
       "    <tr>\n",
       "      <th>2</th>\n",
       "      <td>1</td>\n",
       "      <td>7</td>\n",
       "      <td>8</td>\n",
       "      <td>10</td>\n",
       "      <td>8.0</td>\n",
       "    </tr>\n",
       "    <tr>\n",
       "      <th>3</th>\n",
       "      <td>1</td>\n",
       "      <td>15</td>\n",
       "      <td>14</td>\n",
       "      <td>15</td>\n",
       "      <td>15.0</td>\n",
       "    </tr>\n",
       "    <tr>\n",
       "      <th>4</th>\n",
       "      <td>1</td>\n",
       "      <td>6</td>\n",
       "      <td>10</td>\n",
       "      <td>10</td>\n",
       "      <td>9.0</td>\n",
       "    </tr>\n",
       "  </tbody>\n",
       "</table>\n",
       "</div>"
      ],
      "text/plain": [
       "   sex  G1  G2  G3  GradeAvg\n",
       "0    1   5   6   6       6.0\n",
       "1    1   5   5   6       5.0\n",
       "2    1   7   8  10       8.0\n",
       "3    1  15  14  15      15.0\n",
       "4    1   6  10  10       9.0"
      ]
     },
     "execution_count": 25,
     "metadata": {},
     "output_type": "execute_result"
    }
   ],
   "source": [
    "data_work.head(5)"
   ]
  },
  {
   "cell_type": "code",
   "execution_count": 26,
   "metadata": {
    "execution": {
     "iopub.execute_input": "2020-12-26T13:53:13.735523Z",
     "iopub.status.busy": "2020-12-26T13:53:13.734857Z",
     "iopub.status.idle": "2020-12-26T13:53:13.742694Z",
     "shell.execute_reply": "2020-12-26T13:53:13.743385Z"
    },
    "papermill": {
     "duration": 0.056622,
     "end_time": "2020-12-26T13:53:13.743528",
     "exception": false,
     "start_time": "2020-12-26T13:53:13.686906",
     "status": "completed"
    },
    "tags": []
   },
   "outputs": [
    {
     "data": {
      "text/plain": [
       "sex        -0.127204\n",
       "G1          0.804838\n",
       "G2          0.929286\n",
       "GradeAvg    0.964466\n",
       "G3          1.000000\n",
       "Name: G3, dtype: float64"
      ]
     },
     "execution_count": 26,
     "metadata": {},
     "output_type": "execute_result"
    }
   ],
   "source": [
    "#avoir les corrélations des attributs avec G3 par ordre croissant\n",
    "data_work.corr()['G3'].sort_values()"
   ]
  },
  {
   "cell_type": "code",
   "execution_count": 27,
   "metadata": {
    "execution": {
     "iopub.execute_input": "2020-12-26T13:53:13.839450Z",
     "iopub.status.busy": "2020-12-26T13:53:13.838647Z",
     "iopub.status.idle": "2020-12-26T13:53:13.844689Z",
     "shell.execute_reply": "2020-12-26T13:53:13.845357Z"
    },
    "papermill": {
     "duration": 0.055201,
     "end_time": "2020-12-26T13:53:13.845506",
     "exception": false,
     "start_time": "2020-12-26T13:53:13.790305",
     "status": "completed"
    },
    "tags": []
   },
   "outputs": [
    {
     "data": {
      "text/plain": [
       "Index(['sex', 'G1', 'G2', 'G3', 'GradeAvg'], dtype='object')"
      ]
     },
     "execution_count": 27,
     "metadata": {},
     "output_type": "execute_result"
    }
   ],
   "source": [
    "data_work.columns"
   ]
  },
  {
   "cell_type": "markdown",
   "metadata": {
    "papermill": {
     "duration": 0.046291,
     "end_time": "2020-12-26T13:53:13.939666",
     "exception": false,
     "start_time": "2020-12-26T13:53:13.893375",
     "status": "completed"
    },
    "tags": []
   },
   "source": [
    "1. # **3 - Model processing**"
   ]
  },
  {
   "cell_type": "code",
   "execution_count": 28,
   "metadata": {
    "execution": {
     "iopub.execute_input": "2020-12-26T13:53:14.042635Z",
     "iopub.status.busy": "2020-12-26T13:53:14.041613Z",
     "iopub.status.idle": "2020-12-26T13:53:14.046957Z",
     "shell.execute_reply": "2020-12-26T13:53:14.047561Z"
    },
    "papermill": {
     "duration": 0.061832,
     "end_time": "2020-12-26T13:53:14.047703",
     "exception": false,
     "start_time": "2020-12-26T13:53:13.985871",
     "status": "completed"
    },
    "tags": []
   },
   "outputs": [
    {
     "data": {
      "text/plain": [
       "0       6\n",
       "1       6\n",
       "2      10\n",
       "3      15\n",
       "4      10\n",
       "       ..\n",
       "275    12\n",
       "276     9\n",
       "277     9\n",
       "278     8\n",
       "279    10\n",
       "Name: G3, Length: 280, dtype: int64"
      ]
     },
     "execution_count": 28,
     "metadata": {},
     "output_type": "execute_result"
    }
   ],
   "source": [
    "x_train=data_work.drop(\"G3\",axis=1)\n",
    "y_train=data_work[\"G3\"]\n",
    "y_train"
   ]
  },
  {
   "cell_type": "code",
   "execution_count": 29,
   "metadata": {
    "execution": {
     "iopub.execute_input": "2020-12-26T13:53:14.144832Z",
     "iopub.status.busy": "2020-12-26T13:53:14.143854Z",
     "iopub.status.idle": "2020-12-26T13:53:14.399628Z",
     "shell.execute_reply": "2020-12-26T13:53:14.400245Z"
    },
    "papermill": {
     "duration": 0.306146,
     "end_time": "2020-12-26T13:53:14.400404",
     "exception": false,
     "start_time": "2020-12-26T13:53:14.094258",
     "status": "completed"
    },
    "tags": []
   },
   "outputs": [],
   "source": [
    "#build model\n",
    "from sklearn.linear_model import LinearRegression \n"
   ]
  },
  {
   "cell_type": "code",
   "execution_count": 30,
   "metadata": {
    "execution": {
     "iopub.execute_input": "2020-12-26T13:53:14.502292Z",
     "iopub.status.busy": "2020-12-26T13:53:14.501241Z",
     "iopub.status.idle": "2020-12-26T13:53:14.505772Z",
     "shell.execute_reply": "2020-12-26T13:53:14.506395Z"
    },
    "papermill": {
     "duration": 0.058585,
     "end_time": "2020-12-26T13:53:14.506546",
     "exception": false,
     "start_time": "2020-12-26T13:53:14.447961",
     "status": "completed"
    },
    "tags": []
   },
   "outputs": [],
   "source": [
    "L=LinearRegression()"
   ]
  },
  {
   "cell_type": "code",
   "execution_count": 31,
   "metadata": {
    "execution": {
     "iopub.execute_input": "2020-12-26T13:53:14.604431Z",
     "iopub.status.busy": "2020-12-26T13:53:14.603388Z",
     "iopub.status.idle": "2020-12-26T13:53:14.664827Z",
     "shell.execute_reply": "2020-12-26T13:53:14.665478Z"
    },
    "papermill": {
     "duration": 0.112044,
     "end_time": "2020-12-26T13:53:14.665637",
     "exception": false,
     "start_time": "2020-12-26T13:53:14.553593",
     "status": "completed"
    },
    "tags": []
   },
   "outputs": [
    {
     "data": {
      "text/plain": [
       "LinearRegression()"
      ]
     },
     "execution_count": 31,
     "metadata": {},
     "output_type": "execute_result"
    }
   ],
   "source": [
    "L.fit(x_train, y_train)"
   ]
  },
  {
   "cell_type": "code",
   "execution_count": 32,
   "metadata": {
    "execution": {
     "iopub.execute_input": "2020-12-26T13:53:14.770037Z",
     "iopub.status.busy": "2020-12-26T13:53:14.764626Z",
     "iopub.status.idle": "2020-12-26T13:53:14.818380Z",
     "shell.execute_reply": "2020-12-26T13:53:14.819215Z"
    },
    "papermill": {
     "duration": 0.105967,
     "end_time": "2020-12-26T13:53:14.819444",
     "exception": false,
     "start_time": "2020-12-26T13:53:14.713477",
     "status": "completed"
    },
    "tags": []
   },
   "outputs": [
    {
     "data": {
      "text/html": [
       "<div>\n",
       "<style scoped>\n",
       "    .dataframe tbody tr th:only-of-type {\n",
       "        vertical-align: middle;\n",
       "    }\n",
       "\n",
       "    .dataframe tbody tr th {\n",
       "        vertical-align: top;\n",
       "    }\n",
       "\n",
       "    .dataframe thead th {\n",
       "        text-align: right;\n",
       "    }\n",
       "</style>\n",
       "<table border=\"1\" class=\"dataframe\">\n",
       "  <thead>\n",
       "    <tr style=\"text-align: right;\">\n",
       "      <th></th>\n",
       "      <th>id</th>\n",
       "      <th>school</th>\n",
       "      <th>sex</th>\n",
       "      <th>age</th>\n",
       "      <th>address</th>\n",
       "      <th>famsize</th>\n",
       "      <th>Pstatus</th>\n",
       "      <th>Medu</th>\n",
       "      <th>Fedu</th>\n",
       "      <th>Mjob</th>\n",
       "      <th>...</th>\n",
       "      <th>famrel</th>\n",
       "      <th>freetime</th>\n",
       "      <th>goout</th>\n",
       "      <th>Dalc</th>\n",
       "      <th>Walc</th>\n",
       "      <th>health</th>\n",
       "      <th>absences</th>\n",
       "      <th>G1</th>\n",
       "      <th>G2</th>\n",
       "      <th>G3</th>\n",
       "    </tr>\n",
       "  </thead>\n",
       "  <tbody>\n",
       "    <tr>\n",
       "      <th>0</th>\n",
       "      <td>281</td>\n",
       "      <td>GP</td>\n",
       "      <td>M</td>\n",
       "      <td>17</td>\n",
       "      <td>U</td>\n",
       "      <td>LE3</td>\n",
       "      <td>A</td>\n",
       "      <td>4</td>\n",
       "      <td>1</td>\n",
       "      <td>services</td>\n",
       "      <td>...</td>\n",
       "      <td>4</td>\n",
       "      <td>5</td>\n",
       "      <td>4</td>\n",
       "      <td>2</td>\n",
       "      <td>4</td>\n",
       "      <td>5</td>\n",
       "      <td>30</td>\n",
       "      <td>8</td>\n",
       "      <td>8</td>\n",
       "      <td>8</td>\n",
       "    </tr>\n",
       "    <tr>\n",
       "      <th>1</th>\n",
       "      <td>282</td>\n",
       "      <td>GP</td>\n",
       "      <td>M</td>\n",
       "      <td>17</td>\n",
       "      <td>U</td>\n",
       "      <td>LE3</td>\n",
       "      <td>A</td>\n",
       "      <td>3</td>\n",
       "      <td>2</td>\n",
       "      <td>teacher</td>\n",
       "      <td>...</td>\n",
       "      <td>4</td>\n",
       "      <td>4</td>\n",
       "      <td>4</td>\n",
       "      <td>3</td>\n",
       "      <td>4</td>\n",
       "      <td>3</td>\n",
       "      <td>19</td>\n",
       "      <td>11</td>\n",
       "      <td>9</td>\n",
       "      <td>10</td>\n",
       "    </tr>\n",
       "    <tr>\n",
       "      <th>2</th>\n",
       "      <td>283</td>\n",
       "      <td>GP</td>\n",
       "      <td>F</td>\n",
       "      <td>18</td>\n",
       "      <td>R</td>\n",
       "      <td>LE3</td>\n",
       "      <td>T</td>\n",
       "      <td>1</td>\n",
       "      <td>1</td>\n",
       "      <td>at_home</td>\n",
       "      <td>...</td>\n",
       "      <td>5</td>\n",
       "      <td>2</td>\n",
       "      <td>2</td>\n",
       "      <td>1</td>\n",
       "      <td>1</td>\n",
       "      <td>3</td>\n",
       "      <td>1</td>\n",
       "      <td>12</td>\n",
       "      <td>12</td>\n",
       "      <td>12</td>\n",
       "    </tr>\n",
       "    <tr>\n",
       "      <th>3</th>\n",
       "      <td>284</td>\n",
       "      <td>GP</td>\n",
       "      <td>F</td>\n",
       "      <td>18</td>\n",
       "      <td>U</td>\n",
       "      <td>GT3</td>\n",
       "      <td>T</td>\n",
       "      <td>1</td>\n",
       "      <td>1</td>\n",
       "      <td>other</td>\n",
       "      <td>...</td>\n",
       "      <td>5</td>\n",
       "      <td>4</td>\n",
       "      <td>4</td>\n",
       "      <td>1</td>\n",
       "      <td>1</td>\n",
       "      <td>4</td>\n",
       "      <td>4</td>\n",
       "      <td>8</td>\n",
       "      <td>9</td>\n",
       "      <td>10</td>\n",
       "    </tr>\n",
       "    <tr>\n",
       "      <th>4</th>\n",
       "      <td>285</td>\n",
       "      <td>GP</td>\n",
       "      <td>F</td>\n",
       "      <td>17</td>\n",
       "      <td>U</td>\n",
       "      <td>GT3</td>\n",
       "      <td>T</td>\n",
       "      <td>2</td>\n",
       "      <td>2</td>\n",
       "      <td>other</td>\n",
       "      <td>...</td>\n",
       "      <td>5</td>\n",
       "      <td>4</td>\n",
       "      <td>5</td>\n",
       "      <td>1</td>\n",
       "      <td>2</td>\n",
       "      <td>5</td>\n",
       "      <td>4</td>\n",
       "      <td>10</td>\n",
       "      <td>9</td>\n",
       "      <td>11</td>\n",
       "    </tr>\n",
       "  </tbody>\n",
       "</table>\n",
       "<p>5 rows × 34 columns</p>\n",
       "</div>"
      ],
      "text/plain": [
       "    id school sex  age address famsize Pstatus  Medu  Fedu      Mjob  ...  \\\n",
       "0  281     GP   M   17       U     LE3       A     4     1  services  ...   \n",
       "1  282     GP   M   17       U     LE3       A     3     2   teacher  ...   \n",
       "2  283     GP   F   18       R     LE3       T     1     1   at_home  ...   \n",
       "3  284     GP   F   18       U     GT3       T     1     1     other  ...   \n",
       "4  285     GP   F   17       U     GT3       T     2     2     other  ...   \n",
       "\n",
       "  famrel freetime goout  Dalc  Walc  health absences  G1  G2  G3  \n",
       "0      4        5     4     2     4       5       30   8   8   8  \n",
       "1      4        4     4     3     4       3       19  11   9  10  \n",
       "2      5        2     2     1     1       3        1  12  12  12  \n",
       "3      5        4     4     1     1       4        4   8   9  10  \n",
       "4      5        4     5     1     2       5        4  10   9  11  \n",
       "\n",
       "[5 rows x 34 columns]"
      ]
     },
     "execution_count": 32,
     "metadata": {},
     "output_type": "execute_result"
    }
   ],
   "source": [
    "data_test1=data=pd.read_csv(\"../input/iaa-comptition-2020/student-mat-dataset-test.csv\",delimiter=\";\")\n",
    "data_test1.head()"
   ]
  },
  {
   "cell_type": "code",
   "execution_count": 33,
   "metadata": {
    "execution": {
     "iopub.execute_input": "2020-12-26T13:53:14.974172Z",
     "iopub.status.busy": "2020-12-26T13:53:14.973365Z",
     "iopub.status.idle": "2020-12-26T13:53:14.991574Z",
     "shell.execute_reply": "2020-12-26T13:53:14.991012Z"
    },
    "papermill": {
     "duration": 0.089655,
     "end_time": "2020-12-26T13:53:14.991756",
     "exception": false,
     "start_time": "2020-12-26T13:53:14.902101",
     "status": "completed"
    },
    "tags": []
   },
   "outputs": [
    {
     "data": {
      "text/html": [
       "<div>\n",
       "<style scoped>\n",
       "    .dataframe tbody tr th:only-of-type {\n",
       "        vertical-align: middle;\n",
       "    }\n",
       "\n",
       "    .dataframe tbody tr th {\n",
       "        vertical-align: top;\n",
       "    }\n",
       "\n",
       "    .dataframe thead th {\n",
       "        text-align: right;\n",
       "    }\n",
       "</style>\n",
       "<table border=\"1\" class=\"dataframe\">\n",
       "  <thead>\n",
       "    <tr style=\"text-align: right;\">\n",
       "      <th></th>\n",
       "      <th>sex</th>\n",
       "      <th>G1</th>\n",
       "      <th>G2</th>\n",
       "      <th>G3</th>\n",
       "    </tr>\n",
       "  </thead>\n",
       "  <tbody>\n",
       "    <tr>\n",
       "      <th>0</th>\n",
       "      <td>M</td>\n",
       "      <td>8</td>\n",
       "      <td>8</td>\n",
       "      <td>8</td>\n",
       "    </tr>\n",
       "    <tr>\n",
       "      <th>1</th>\n",
       "      <td>M</td>\n",
       "      <td>11</td>\n",
       "      <td>9</td>\n",
       "      <td>10</td>\n",
       "    </tr>\n",
       "    <tr>\n",
       "      <th>2</th>\n",
       "      <td>F</td>\n",
       "      <td>12</td>\n",
       "      <td>12</td>\n",
       "      <td>12</td>\n",
       "    </tr>\n",
       "    <tr>\n",
       "      <th>3</th>\n",
       "      <td>F</td>\n",
       "      <td>8</td>\n",
       "      <td>9</td>\n",
       "      <td>10</td>\n",
       "    </tr>\n",
       "    <tr>\n",
       "      <th>4</th>\n",
       "      <td>F</td>\n",
       "      <td>10</td>\n",
       "      <td>9</td>\n",
       "      <td>11</td>\n",
       "    </tr>\n",
       "    <tr>\n",
       "      <th>...</th>\n",
       "      <td>...</td>\n",
       "      <td>...</td>\n",
       "      <td>...</td>\n",
       "      <td>...</td>\n",
       "    </tr>\n",
       "    <tr>\n",
       "      <th>110</th>\n",
       "      <td>M</td>\n",
       "      <td>9</td>\n",
       "      <td>9</td>\n",
       "      <td>9</td>\n",
       "    </tr>\n",
       "    <tr>\n",
       "      <th>111</th>\n",
       "      <td>M</td>\n",
       "      <td>14</td>\n",
       "      <td>16</td>\n",
       "      <td>16</td>\n",
       "    </tr>\n",
       "    <tr>\n",
       "      <th>112</th>\n",
       "      <td>M</td>\n",
       "      <td>10</td>\n",
       "      <td>8</td>\n",
       "      <td>7</td>\n",
       "    </tr>\n",
       "    <tr>\n",
       "      <th>113</th>\n",
       "      <td>M</td>\n",
       "      <td>11</td>\n",
       "      <td>12</td>\n",
       "      <td>10</td>\n",
       "    </tr>\n",
       "    <tr>\n",
       "      <th>114</th>\n",
       "      <td>M</td>\n",
       "      <td>8</td>\n",
       "      <td>9</td>\n",
       "      <td>9</td>\n",
       "    </tr>\n",
       "  </tbody>\n",
       "</table>\n",
       "<p>115 rows × 4 columns</p>\n",
       "</div>"
      ],
      "text/plain": [
       "    sex  G1  G2  G3\n",
       "0     M   8   8   8\n",
       "1     M  11   9  10\n",
       "2     F  12  12  12\n",
       "3     F   8   9  10\n",
       "4     F  10   9  11\n",
       "..   ..  ..  ..  ..\n",
       "110   M   9   9   9\n",
       "111   M  14  16  16\n",
       "112   M  10   8   7\n",
       "113   M  11  12  10\n",
       "114   M   8   9   9\n",
       "\n",
       "[115 rows x 4 columns]"
      ]
     },
     "execution_count": 33,
     "metadata": {},
     "output_type": "execute_result"
    }
   ],
   "source": [
    "data_work_test=data_test1.drop([\"school\", 'address', 'famsize', 'Pstatus', 'Mjob', 'Fjob', 'reason', 'guardian', 'traveltime',\n",
    "         'schoolsup', 'famsup', 'paid', 'activities', 'nursery',\n",
    "       'higher', 'romantic', 'goout', 'Dalc',\n",
    "       'Walc', 'health','studytime','age','failures','famrel','internet','freetime','Medu','Fedu','id','absences'],axis=1)\n",
    "data_work_test"
   ]
  },
  {
   "cell_type": "code",
   "execution_count": 34,
   "metadata": {
    "execution": {
     "iopub.execute_input": "2020-12-26T13:53:15.093932Z",
     "iopub.status.busy": "2020-12-26T13:53:15.092860Z",
     "iopub.status.idle": "2020-12-26T13:53:15.100445Z",
     "shell.execute_reply": "2020-12-26T13:53:15.099785Z"
    },
    "papermill": {
     "duration": 0.059689,
     "end_time": "2020-12-26T13:53:15.100560",
     "exception": false,
     "start_time": "2020-12-26T13:53:15.040871",
     "status": "completed"
    },
    "tags": []
   },
   "outputs": [],
   "source": [
    "import math\n",
    "data_work_test['GradeAvg'] =round((data_work_test['G1'] + data_work_test['G2'] + data_work_test['G3']) / 3,3) \n"
   ]
  },
  {
   "cell_type": "code",
   "execution_count": 35,
   "metadata": {
    "execution": {
     "iopub.execute_input": "2020-12-26T13:53:15.210158Z",
     "iopub.status.busy": "2020-12-26T13:53:15.209444Z",
     "iopub.status.idle": "2020-12-26T13:53:15.212402Z",
     "shell.execute_reply": "2020-12-26T13:53:15.213009Z"
    },
    "papermill": {
     "duration": 0.06344,
     "end_time": "2020-12-26T13:53:15.213153",
     "exception": false,
     "start_time": "2020-12-26T13:53:15.149713",
     "status": "completed"
    },
    "tags": []
   },
   "outputs": [
    {
     "data": {
      "text/html": [
       "<div>\n",
       "<style scoped>\n",
       "    .dataframe tbody tr th:only-of-type {\n",
       "        vertical-align: middle;\n",
       "    }\n",
       "\n",
       "    .dataframe tbody tr th {\n",
       "        vertical-align: top;\n",
       "    }\n",
       "\n",
       "    .dataframe thead th {\n",
       "        text-align: right;\n",
       "    }\n",
       "</style>\n",
       "<table border=\"1\" class=\"dataframe\">\n",
       "  <thead>\n",
       "    <tr style=\"text-align: right;\">\n",
       "      <th></th>\n",
       "      <th>sex</th>\n",
       "      <th>G1</th>\n",
       "      <th>G2</th>\n",
       "      <th>G3</th>\n",
       "      <th>GradeAvg</th>\n",
       "    </tr>\n",
       "  </thead>\n",
       "  <tbody>\n",
       "    <tr>\n",
       "      <th>0</th>\n",
       "      <td>M</td>\n",
       "      <td>8</td>\n",
       "      <td>8</td>\n",
       "      <td>8</td>\n",
       "      <td>8.0</td>\n",
       "    </tr>\n",
       "    <tr>\n",
       "      <th>1</th>\n",
       "      <td>M</td>\n",
       "      <td>11</td>\n",
       "      <td>9</td>\n",
       "      <td>10</td>\n",
       "      <td>10.0</td>\n",
       "    </tr>\n",
       "    <tr>\n",
       "      <th>2</th>\n",
       "      <td>F</td>\n",
       "      <td>12</td>\n",
       "      <td>12</td>\n",
       "      <td>12</td>\n",
       "      <td>12.0</td>\n",
       "    </tr>\n",
       "    <tr>\n",
       "      <th>3</th>\n",
       "      <td>F</td>\n",
       "      <td>8</td>\n",
       "      <td>9</td>\n",
       "      <td>10</td>\n",
       "      <td>9.0</td>\n",
       "    </tr>\n",
       "    <tr>\n",
       "      <th>4</th>\n",
       "      <td>F</td>\n",
       "      <td>10</td>\n",
       "      <td>9</td>\n",
       "      <td>11</td>\n",
       "      <td>10.0</td>\n",
       "    </tr>\n",
       "  </tbody>\n",
       "</table>\n",
       "</div>"
      ],
      "text/plain": [
       "  sex  G1  G2  G3  GradeAvg\n",
       "0   M   8   8   8       8.0\n",
       "1   M  11   9  10      10.0\n",
       "2   F  12  12  12      12.0\n",
       "3   F   8   9  10       9.0\n",
       "4   F  10   9  11      10.0"
      ]
     },
     "execution_count": 35,
     "metadata": {},
     "output_type": "execute_result"
    }
   ],
   "source": [
    "data_work_test.head()"
   ]
  },
  {
   "cell_type": "code",
   "execution_count": 36,
   "metadata": {
    "execution": {
     "iopub.execute_input": "2020-12-26T13:53:15.316202Z",
     "iopub.status.busy": "2020-12-26T13:53:15.315530Z",
     "iopub.status.idle": "2020-12-26T13:53:15.322490Z",
     "shell.execute_reply": "2020-12-26T13:53:15.321815Z"
    },
    "papermill": {
     "duration": 0.059887,
     "end_time": "2020-12-26T13:53:15.322602",
     "exception": false,
     "start_time": "2020-12-26T13:53:15.262715",
     "status": "completed"
    },
    "tags": []
   },
   "outputs": [],
   "source": [
    "#Convertir en valeur catégorielle\n",
    "#sex \n",
    "sexc = {'F': 1, 'M': 0}\n",
    "data_work_test['sex'] = data_work_test['sex'].map(sexc)\n",
    "#val={'yes': 1, 'no': 0}\n",
    "#data_work_test['internet'] =data_work_test['internet'].map(val)\n"
   ]
  },
  {
   "cell_type": "code",
   "execution_count": 37,
   "metadata": {
    "execution": {
     "iopub.execute_input": "2020-12-26T13:53:15.431566Z",
     "iopub.status.busy": "2020-12-26T13:53:15.430500Z",
     "iopub.status.idle": "2020-12-26T13:53:15.435142Z",
     "shell.execute_reply": "2020-12-26T13:53:15.434630Z"
    },
    "papermill": {
     "duration": 0.0629,
     "end_time": "2020-12-26T13:53:15.435257",
     "exception": false,
     "start_time": "2020-12-26T13:53:15.372357",
     "status": "completed"
    },
    "tags": []
   },
   "outputs": [
    {
     "data": {
      "text/plain": [
       "0       8\n",
       "1      10\n",
       "2      12\n",
       "3      10\n",
       "4      11\n",
       "       ..\n",
       "110     9\n",
       "111    16\n",
       "112     7\n",
       "113    10\n",
       "114     9\n",
       "Name: G3, Length: 115, dtype: int64"
      ]
     },
     "execution_count": 37,
     "metadata": {},
     "output_type": "execute_result"
    }
   ],
   "source": [
    "x_test=data_work_test.drop(\"G3\",axis=1)\n",
    "y_test=data_work_test[\"G3\"]\n",
    "y_test"
   ]
  },
  {
   "cell_type": "code",
   "execution_count": 38,
   "metadata": {
    "execution": {
     "iopub.execute_input": "2020-12-26T13:53:15.554048Z",
     "iopub.status.busy": "2020-12-26T13:53:15.553319Z",
     "iopub.status.idle": "2020-12-26T13:53:15.556319Z",
     "shell.execute_reply": "2020-12-26T13:53:15.555819Z"
    },
    "papermill": {
     "duration": 0.063577,
     "end_time": "2020-12-26T13:53:15.556430",
     "exception": false,
     "start_time": "2020-12-26T13:53:15.492853",
     "status": "completed"
    },
    "tags": []
   },
   "outputs": [],
   "source": [
    "y_pred=L.predict(x_test)"
   ]
  },
  {
   "cell_type": "code",
   "execution_count": 39,
   "metadata": {
    "execution": {
     "iopub.execute_input": "2020-12-26T13:53:15.665601Z",
     "iopub.status.busy": "2020-12-26T13:53:15.664778Z",
     "iopub.status.idle": "2020-12-26T13:53:15.669028Z",
     "shell.execute_reply": "2020-12-26T13:53:15.668113Z"
    },
    "papermill": {
     "duration": 0.062392,
     "end_time": "2020-12-26T13:53:15.669188",
     "exception": false,
     "start_time": "2020-12-26T13:53:15.606796",
     "status": "completed"
    },
    "tags": []
   },
   "outputs": [
    {
     "name": "stdout",
     "output_type": "stream",
     "text": [
      "0.9866368097926388\n"
     ]
    }
   ],
   "source": [
    "print(L.score(x_test, y_test)) \n"
   ]
  },
  {
   "cell_type": "code",
   "execution_count": 40,
   "metadata": {
    "execution": {
     "iopub.execute_input": "2020-12-26T13:53:15.777145Z",
     "iopub.status.busy": "2020-12-26T13:53:15.776274Z",
     "iopub.status.idle": "2020-12-26T13:53:15.779270Z",
     "shell.execute_reply": "2020-12-26T13:53:15.778591Z"
    },
    "papermill": {
     "duration": 0.058546,
     "end_time": "2020-12-26T13:53:15.779386",
     "exception": false,
     "start_time": "2020-12-26T13:53:15.720840",
     "status": "completed"
    },
    "tags": []
   },
   "outputs": [],
   "source": [
    "\n",
    "from sklearn.linear_model import Ridge\n",
    "\n",
    "\n",
    "L1=Ridge()\n"
   ]
  },
  {
   "cell_type": "code",
   "execution_count": 41,
   "metadata": {
    "execution": {
     "iopub.execute_input": "2020-12-26T13:53:15.898893Z",
     "iopub.status.busy": "2020-12-26T13:53:15.897951Z",
     "iopub.status.idle": "2020-12-26T13:53:15.903893Z",
     "shell.execute_reply": "2020-12-26T13:53:15.904381Z"
    },
    "papermill": {
     "duration": 0.073854,
     "end_time": "2020-12-26T13:53:15.904529",
     "exception": false,
     "start_time": "2020-12-26T13:53:15.830675",
     "status": "completed"
    },
    "tags": []
   },
   "outputs": [
    {
     "data": {
      "text/plain": [
       "Ridge()"
      ]
     },
     "execution_count": 41,
     "metadata": {},
     "output_type": "execute_result"
    }
   ],
   "source": [
    "L1.fit(x_train, y_train)"
   ]
  },
  {
   "cell_type": "code",
   "execution_count": 42,
   "metadata": {
    "execution": {
     "iopub.execute_input": "2020-12-26T13:53:16.012595Z",
     "iopub.status.busy": "2020-12-26T13:53:16.011602Z",
     "iopub.status.idle": "2020-12-26T13:53:16.018037Z",
     "shell.execute_reply": "2020-12-26T13:53:16.018504Z"
    },
    "papermill": {
     "duration": 0.06155,
     "end_time": "2020-12-26T13:53:16.018649",
     "exception": false,
     "start_time": "2020-12-26T13:53:15.957099",
     "status": "completed"
    },
    "tags": []
   },
   "outputs": [],
   "source": [
    "y_pred1=L1.predict(x_test)"
   ]
  },
  {
   "cell_type": "code",
   "execution_count": 43,
   "metadata": {
    "execution": {
     "iopub.execute_input": "2020-12-26T13:53:16.126774Z",
     "iopub.status.busy": "2020-12-26T13:53:16.125715Z",
     "iopub.status.idle": "2020-12-26T13:53:16.134531Z",
     "shell.execute_reply": "2020-12-26T13:53:16.135144Z"
    },
    "papermill": {
     "duration": 0.064703,
     "end_time": "2020-12-26T13:53:16.135307",
     "exception": false,
     "start_time": "2020-12-26T13:53:16.070604",
     "status": "completed"
    },
    "tags": []
   },
   "outputs": [
    {
     "name": "stdout",
     "output_type": "stream",
     "text": [
      "0.9855286254981859\n"
     ]
    }
   ],
   "source": [
    "print(L1.score(x_test, y_test)) \n"
   ]
  },
  {
   "cell_type": "code",
   "execution_count": 44,
   "metadata": {
    "execution": {
     "iopub.execute_input": "2020-12-26T13:53:16.257235Z",
     "iopub.status.busy": "2020-12-26T13:53:16.251289Z",
     "iopub.status.idle": "2020-12-26T13:53:16.262414Z",
     "shell.execute_reply": "2020-12-26T13:53:16.263763Z"
    },
    "papermill": {
     "duration": 0.076767,
     "end_time": "2020-12-26T13:53:16.264010",
     "exception": false,
     "start_time": "2020-12-26T13:53:16.187243",
     "status": "completed"
    },
    "tags": []
   },
   "outputs": [
    {
     "name": "stdout",
     "output_type": "stream",
     "text": [
      "0.8746539003054526\n"
     ]
    }
   ],
   "source": [
    "from sklearn.linear_model import Lasso\n",
    "L2=Lasso()\n",
    "L2.fit(x_train, y_train)\n",
    "y_pred2=L2.predict(x_test)\n",
    "print(L2.score(x_test, y_test)) "
   ]
  },
  {
   "cell_type": "markdown",
   "metadata": {
    "papermill": {
     "duration": 0.05231,
     "end_time": "2020-12-26T13:53:16.370193",
     "exception": false,
     "start_time": "2020-12-26T13:53:16.317883",
     "status": "completed"
    },
    "tags": []
   },
   "source": [
    "1. # **4 - Deployment**"
   ]
  },
  {
   "cell_type": "code",
   "execution_count": 45,
   "metadata": {
    "execution": {
     "iopub.execute_input": "2020-12-26T13:53:16.485329Z",
     "iopub.status.busy": "2020-12-26T13:53:16.484427Z",
     "iopub.status.idle": "2020-12-26T13:53:16.486783Z",
     "shell.execute_reply": "2020-12-26T13:53:16.487309Z"
    },
    "papermill": {
     "duration": 0.064587,
     "end_time": "2020-12-26T13:53:16.487452",
     "exception": false,
     "start_time": "2020-12-26T13:53:16.422865",
     "status": "completed"
    },
    "tags": []
   },
   "outputs": [],
   "source": [
    "linear_prediction=pd.DataFrame(data=y_pred, index=data_test1['id'],columns=['target'])\n",
    "linear_prediction=linear_prediction['target'].apply(lambda x: np.abs(int(np.round(x))))\n",
    "\n"
   ]
  },
  {
   "cell_type": "code",
   "execution_count": 46,
   "metadata": {
    "execution": {
     "iopub.execute_input": "2020-12-26T13:53:16.599410Z",
     "iopub.status.busy": "2020-12-26T13:53:16.598719Z",
     "iopub.status.idle": "2020-12-26T13:53:16.876584Z",
     "shell.execute_reply": "2020-12-26T13:53:16.877077Z"
    },
    "papermill": {
     "duration": 0.335767,
     "end_time": "2020-12-26T13:53:16.877239",
     "exception": false,
     "start_time": "2020-12-26T13:53:16.541472",
     "status": "completed"
    },
    "tags": []
   },
   "outputs": [],
   "source": [
    "linear_prediction.to_csv('linear_prediction.csv',index=True)"
   ]
  }
 ],
 "metadata": {
  "kernelspec": {
   "display_name": "Python 3",
   "language": "python",
   "name": "python3"
  },
  "language_info": {
   "codemirror_mode": {
    "name": "ipython",
    "version": 3
   },
   "file_extension": ".py",
   "mimetype": "text/x-python",
   "name": "python",
   "nbconvert_exporter": "python",
   "pygments_lexer": "ipython3",
   "version": "3.7.6"
  },
  "papermill": {
   "duration": 12.542689,
   "end_time": "2020-12-26T13:53:17.038920",
   "environment_variables": {},
   "exception": null,
   "input_path": "__notebook__.ipynb",
   "output_path": "__notebook__.ipynb",
   "parameters": {},
   "start_time": "2020-12-26T13:53:04.496231",
   "version": "2.1.0"
  }
 },
 "nbformat": 4,
 "nbformat_minor": 4
}
